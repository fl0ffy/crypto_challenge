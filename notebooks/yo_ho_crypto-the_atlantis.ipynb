{
 "cells": [
  {
   "cell_type": "code",
   "execution_count": 90,
   "metadata": {
    "collapsed": true
   },
   "outputs": [],
   "source": [
    "# BSidesCharm 2018 Yo Ho Crypto\n",
    "# Choose your own crypto by Tess Schrodinger"
   ]
  },
  {
   "cell_type": "code",
   "execution_count": null,
   "metadata": {
    "collapsed": true
   },
   "outputs": [],
   "source": [
    "# To join the crew of The Atlantis, turn to page 34"
   ]
  },
  {
   "cell_type": "code",
   "execution_count": 105,
   "metadata": {},
   "outputs": [
    {
     "name": "stdout",
     "output_type": "stream",
     "text": [
      "\n",
      "welcome aboard here is your treasure map turn to page one to begin\n",
      "\n"
     ]
    }
   ],
   "source": [
    "#  Page 34\n",
    "# Cipher: Morse Code\n",
    "\n",
    "# Solved by hand\n",
    "plaintext = '''\n",
    "welcome aboard here is your treasure map turn to page one to begin\n",
    "'''\n",
    "print(plaintext)"
   ]
  },
  {
   "cell_type": "code",
   "execution_count": null,
   "metadata": {
    "collapsed": true
   },
   "outputs": [],
   "source": [
    "# Page 1\n",
    "# Map\n",
    "# Turn to page 11"
   ]
  },
  {
   "cell_type": "code",
   "execution_count": null,
   "metadata": {
    "collapsed": true
   },
   "outputs": [],
   "source": [
    "# Page 11\n",
    "\n",
    "# pick a path 5 or 15"
   ]
  },
  {
   "cell_type": "code",
   "execution_count": 107,
   "metadata": {},
   "outputs": [
    {
     "name": "stdout",
     "output_type": "stream",
     "text": [
      "\n",
      "the treasure lies to the west\n",
      "\n"
     ]
    }
   ],
   "source": [
    "# Page 5\n",
    "# Cipher: Caesar Cipher (rot13)\n",
    "\n",
    "ciphertext_one = '''gurgernfheryvrfgbgurjrfg'''\n",
    "\n",
    "def caesar_cipher_v1 (input):\n",
    "    alphabet = \"abcdefghijklmnopqrstuvwxyz\"\n",
    "    compared = alphabet * 2\n",
    "    key = 13\n",
    "    plain_text = []\n",
    "    for letter in input:\n",
    "        new_letter = compared.index(letter) + 13\n",
    "        plain_text.append(compared[new_letter])\n",
    "    return ''.join(plain_text)\n",
    "\n",
    "caesar_cipher_v1(ciphertext_one)\n",
    "\n",
    "import codecs\n",
    "\n",
    "ciphertext_two = '''\n",
    "gur gernfher yvrf gb gur jrfg\n",
    "'''\n",
    "\n",
    "def caesar_cipher_v2(input):\n",
    "    return codecs.decode(input, 'rot_13')\n",
    "\n",
    "print(caesar_cipher_v2(ciphertext_two))"
   ]
  },
  {
   "cell_type": "code",
   "execution_count": null,
   "metadata": {
    "collapsed": true
   },
   "outputs": [],
   "source": [
    "# Page 15\n",
    "# Maze\n",
    "\n",
    "# turn to page 17 or 8"
   ]
  },
  {
   "cell_type": "code",
   "execution_count": null,
   "metadata": {
    "collapsed": true
   },
   "outputs": [],
   "source": [
    "# Page 17\n",
    "# Turn to page 5 (see above)"
   ]
  },
  {
   "cell_type": "code",
   "execution_count": null,
   "metadata": {
    "collapsed": true
   },
   "outputs": [],
   "source": [
    "# Page 8\n",
    "# Cipher: Rune substitution\n",
    "\n",
    "# turn to page 28 or 22"
   ]
  },
  {
   "cell_type": "code",
   "execution_count": null,
   "metadata": {
    "collapsed": true
   },
   "outputs": [],
   "source": [
    "# Page 22\n",
    "# Turn to page 11 ( see above)"
   ]
  },
  {
   "cell_type": "code",
   "execution_count": 98,
   "metadata": {},
   "outputs": [
    {
     "data": {
      "text/plain": [
       "'if you push on the snake your bones they will break\\n'"
      ]
     },
     "execution_count": 98,
     "metadata": {},
     "output_type": "execute_result"
    }
   ],
   "source": [
    "# Page 28\n",
    "# Cipher: Binary\n",
    "\n",
    "ciphertext = '''01101001 01100110 00100000 01111001 01101111 01110101 00100000\n",
    "01110000 01110101 01110011 01101000 00100000 01101111 01101110\n",
    "00100000 01110100 01101000 01100101 00100000 01110011 01101110\n",
    "01100001 01101011 01100101 00100000 01111001 01101111 01110101\n",
    "01110010 00100000 01100010 01101111 01101110 01100101 01110011\n",
    "00100000 01110100 01101000 01100101 01111001 00100000 01110111\n",
    "01101001 01101100 01101100 00100000 01100010 01110010 01100101\n",
    "01100001 01101011 0001010'''\n",
    "\n",
    "def binary_to_text_v1(input):\n",
    "    l = input.split()\n",
    "    tl = []\n",
    "    for i in l:\n",
    "        tl.append(chr(int(i, base=2)))\n",
    "    return ''.join(tl)\n",
    "\n",
    "binary_to_text_v1(ciphertext)"
   ]
  },
  {
   "cell_type": "code",
   "execution_count": null,
   "metadata": {
    "collapsed": true
   },
   "outputs": [],
   "source": [
    "# Page 24\n",
    "# DEAD"
   ]
  },
  {
   "cell_type": "code",
   "execution_count": 100,
   "metadata": {},
   "outputs": [
    {
     "data": {
      "text/plain": [
       "'Youwillreallywishthatyouchosethefish'"
      ]
     },
     "execution_count": 100,
     "metadata": {},
     "output_type": "execute_result"
    }
   ],
   "source": [
    "# Page 30\n",
    "\n",
    "\n",
    "import string\n",
    "\n",
    "ciphertext = '''Blfdrooivzoobdrhsgszgblfxslhvgsvurhs'''\n",
    "\n",
    "def atbash_cipher (input):\n",
    "    # genterate aplhabet strings forward and backward\n",
    "    a_z = string.ascii_lowercase + string.ascii_uppercase\n",
    "    z_a = string.ascii_lowercase[::-1] + string.ascii_uppercase[::-1]\n",
    "\n",
    "    # convert alphabet strings into lists\n",
    "    a_z_list = list(a_z)\n",
    "    z_a_list = list(z_a)\n",
    "\n",
    "    # combine lists into dictionary\n",
    "    atbash_dict = dict(zip(a_z_list, z_a_list))\n",
    "\n",
    "    l = []\n",
    "    for c in input:\n",
    "        l.append(atbash_dict[c])\n",
    "    \n",
    "    return ''.join(l)\n",
    "\n",
    "\n",
    "atbash_cipher(ciphertext)"
   ]
  },
  {
   "cell_type": "code",
   "execution_count": null,
   "metadata": {
    "collapsed": true
   },
   "outputs": [],
   "source": [
    "# Page 26\n",
    "# DEAD"
   ]
  },
  {
   "cell_type": "code",
   "execution_count": 101,
   "metadata": {},
   "outputs": [
    {
     "data": {
      "text/plain": [
       "'Look above and you will seH a teHny tb.y golden key\\n'"
      ]
     },
     "execution_count": 101,
     "metadata": {},
     "output_type": "execute_result"
    }
   ],
   "source": [
    "# Page 10\n",
    "# Cipher: Base64\n",
    "\n",
    "import base64\n",
    "\n",
    "ciphertext = '''\n",
    "TG9vayBhYm92ZSBhbmQgeW91IHdpbGwgc2VIIGEgdGVIbnkgdGIueSBnb2xkZW4ga2V5Cg==\n",
    "'''\n",
    "\n",
    "def base64_to_ascii_v1 (input):\n",
    "    return base64.b64decode(input).decode('ascii')\n",
    "\n",
    "base64_to_ascii_v1(ciphertext)"
   ]
  },
  {
   "cell_type": "code",
   "execution_count": null,
   "metadata": {
    "collapsed": true
   },
   "outputs": [],
   "source": [
    "# Page 32\n",
    "# DEAD"
   ]
  },
  {
   "cell_type": "code",
   "execution_count": 103,
   "metadata": {},
   "outputs": [
    {
     "data": {
      "text/plain": [
       "'If treasure is what you seek, ask for help from your friend with the beak\\n'"
      ]
     },
     "execution_count": 103,
     "metadata": {},
     "output_type": "execute_result"
    }
   ],
   "source": [
    "# Page 13\n",
    "# Cipher: Hex\n",
    "\n",
    "ciphertext = '''49 66 20 74 72 65 61 73 75 72 65 20 69 73 20 77 68 61 74 20 79 6f 75 20 73 65\n",
    "65 6b 2c 20 61 73 6b 20 66 6f 72 20 68 65 6c 70 20 66 72 6f 6d 20 79 6f 75 72 20\n",
    "66 72 69 65 6e 64 20 77 69 74 68 20 74 68 65 20 62 65 61 6b 0a'''\n",
    "\n",
    "def hex_to_ascii_v1 (input):\n",
    "    return bytearray.fromhex(''.join(input.split())).decode()\n",
    "\n",
    "hex_to_ascii_v1(ciphertext)"
   ]
  },
  {
   "cell_type": "code",
   "execution_count": null,
   "metadata": {
    "collapsed": true
   },
   "outputs": [],
   "source": [
    "# Page 20\n",
    "# DEAD"
   ]
  },
  {
   "cell_type": "code",
   "execution_count": 104,
   "metadata": {},
   "outputs": [
    {
     "data": {
      "text/plain": [
       "'congratulationsyouhavefoundthetreasureofthesilverstarbringthiscodewordtojennyortesstogetyourprizegucci'"
      ]
     },
     "execution_count": 104,
     "metadata": {},
     "output_type": "execute_result"
    }
   ],
   "source": [
    "# Page 2\n",
    "# PRIZE PAGE\n",
    "# work with spaces\n",
    "\n",
    "\n",
    "ciphertext = '''\n",
    "AAABAABBBAABBABAABBABAAABAAAAABAABBBABAAABABBAAAAABAA\n",
    "BBABAAAABBBAABBABBAABA BBAAAABBBABABAA\n",
    "AABBBAAAAABABABAABAA AABABABBBABABAAABBABAAABB\n",
    "BAABBAABBBAABAA\n",
    "BAABBBAAABAABAAAAAAABAABABABAABAAABAABAA ABBBAAABAB\n",
    "BAABBAABBBAABAA BAABAABAAAABABBBABABAABAABAAAB\n",
    "BAABABAABBAAAAABAAAB AAAABBAAABABAAAABBABAABBA\n",
    "BAABBAABBBABAAABAABA AAABAABBBAAAABBAABAA\n",
    "BABBAABBBABAAABAAABB BAABBABBBA\n",
    "ABAABAABAAABBABABBABBBAAA ABBBABAAAB\n",
    "BAABBAABAABAABABAABA BAABBABBBA AABBAAABAABAABB\n",
    "BBAAAABBBABABAABAAAB ABBBBBAAABABAAABBAABAABAA\n",
    "AABBABABAAAAABAAAABAABAAA\n",
    "'''\n",
    "\n",
    "from more_itertools import sliced\n",
    "\n",
    "def bacon_cipher(input):\n",
    "    \n",
    "    lookup = {'A':'aaaaa', 'B':'aaaab', 'C':'aaaba', 'D':'aaabb', 'E':'aabaa',\n",
    "            'F':'aabab', 'G':'aabba', 'H':'aabbb', 'I':'abaaa', 'J':'abaab',\n",
    "            'K':'ababa', 'L':'ababb', 'M':'abbaa', 'N':'abbab', 'O':'abbba',\n",
    "            'P':'abbbb', 'Q':'baaaa', 'R':'baaab', 'S':'baaba', 'T':'baabb',\n",
    "            'U':'babaa', 'V':'babab', 'W':'babba', 'X':'babbb', 'Y':'bbaaa', 'Z':'bbaab'}\n",
    "    \n",
    "    inverse_lookup = {v: k for k, v in lookup.items()}\n",
    "    \n",
    "    clean_input = ''.join(input.split()).lower()\n",
    "    l = list(sliced(clean_input, 5))\n",
    "    tl = []\n",
    "    for i in l:\n",
    "        tl.append(inverse_lookup[i])\n",
    "    \n",
    "    return ''.join(tl).lower()\n",
    "\n",
    "bacon_cipher(ciphertext)"
   ]
  }
 ],
 "metadata": {
  "kernelspec": {
   "display_name": "Python 3",
   "language": "python",
   "name": "python3"
  },
  "language_info": {
   "codemirror_mode": {
    "name": "ipython",
    "version": 3
   },
   "file_extension": ".py",
   "mimetype": "text/x-python",
   "name": "python",
   "nbconvert_exporter": "python",
   "pygments_lexer": "ipython3",
   "version": "3.6.0"
  }
 },
 "nbformat": 4,
 "nbformat_minor": 2
}
