{
 "cells": [
  {
   "cell_type": "code",
   "execution_count": 1,
   "metadata": {},
   "outputs": [
    {
     "ename": "SyntaxError",
     "evalue": "invalid syntax (<ipython-input-1-dc075953c4fc>, line 3)",
     "output_type": "error",
     "traceback": [
      "\u001b[0;36m  File \u001b[0;32m\"<ipython-input-1-dc075953c4fc>\"\u001b[0;36m, line \u001b[0;32m3\u001b[0m\n\u001b[0;31m    Lybe gx etrneqv wlm thtytq zn m llonp hmhh.\u001b[0m\n\u001b[0m          ^\u001b[0m\n\u001b[0;31mSyntaxError\u001b[0m\u001b[0;31m:\u001b[0m invalid syntax\n"
     ]
    }
   ],
   "source": [
    "#page 39\n",
    "\n",
    "Lybe gx etrneqv wlm thtytq zn m llonp hmhh.\n",
    "\n",
    "Nml wmsh jn sefehtl kwa wi ifv lujuppp stmokcj iz i gxxqy tict, sesgzh dd yoi grj eft fphgc.\n",
    "\n",
    "Rcowusgeg fw bdsi kzwzacugq wi ifv Dqehn Bvcuuda qpsfmp, nml abxhpp ko nm lc rye nqrvprptg vtakiav. Bds\n",
    "tadmijjcy smw im pogz itck azl odmb adwxcb, ieympqciizo wd pvmmqq pq huumw pq goealqjv sa bkt\n",
    "Jzbdiuxyes mzh cmk axmuicu ta grjp grqahcav.\n",
    "\n",
    "Yac fpl yemz wwc wauvw spzp pzle biibxlce ff ewpt iznp nojgu yac ftpkauvon ffqu qv lyked nudk fnq llgcttuwq.\n",
    "\n",
    "Perizaw ifv wmto, nml nablrc r mkawtpzoga zdmuez kuprv. If aptjcs epdgn rnp mdgryy, xqnt dieepon eiogvg\n",
    "rgenmurc. Yed iphc wfu bcw nmlr qiu perizaw ifv racjw urry erdb, pog phpp r sanw wsdmuvj - pl znpqvigecf\n",
    "uhamuy.\n",
    "Ub gdcj nab denvad br qc uirnlrsct fw rece. Axt bds nogtg ccvd fw gd gj rqurkc r fqe qpgcs.\n",
    "\n",
    "Mlyplte pwzc rye piuz afrdqgdp koiiusq khq arjlu or luxngizo en rlrzqqu rf funwtce\n",
    "\n",
    "Afbhbnk ta wstl khq kuprv bk bxglzns br ifzrfg vxv\n",
    "\n",
    "#dsdp 39\n",
    "\n",
    "Nhbs yu pvansis hnv tvlves in a dizpy haze.\n",
    "\n",
    "You wake up between two of the library shelves in a dizzy haze, unsure of how you got there.\n",
    "\n",
    "According to your knowledge of the Dewey Decimal system, you appear to be in the biography section. You\n",
    "carefully get to your feet and look around, remembering to remain as quiet as possible so the\n",
    "Librarians are not alerted to your presence.\n",
    "\n",
    "You can hear the faint drip drip dripping of some kind fluid you certainly hoqi is water from one direction.\n",
    "\n",
    "Against the wall, you notice a mysterious wooden crate. It smells sharp and earthy, like freshly ground\n",
    "cinnamon. And when you put your ear against the rough warm wood, you hear a soft humming - an indistinct\n",
    "melody.\n",
    "It does not appear to be difficult to open. All you would need to do is remove a few nails.\n",
    "\n",
    "Advance down the dark corridor towards the sound of dripping by turninf to fifteen\n",
    "\n",
    "Attempt to open the crate by turning to thirty six"
   ]
  },
  {
   "cell_type": "code",
   "execution_count": 2,
   "metadata": {},
   "outputs": [
    {
     "ename": "SyntaxError",
     "evalue": "invalid syntax (<ipython-input-2-a75b362ead5c>, line 3)",
     "output_type": "error",
     "traceback": [
      "\u001b[0;36m  File \u001b[0;32m\"<ipython-input-2-a75b362ead5c>\"\u001b[0;36m, line \u001b[0;32m3\u001b[0m\n\u001b[0;31m    22 45 75 61 20 73 61 79 7a 20 74 6b 62 6b 78 20 6c 6b 6b 72 20 68 67 6a 72 65\u001b[0m\n\u001b[0m        ^\u001b[0m\n\u001b[0;31mSyntaxError\u001b[0m\u001b[0;31m:\u001b[0m invalid syntax\n"
     ]
    }
   ],
   "source": [
    "# page 2\n",
    "\n",
    "22 45 75 61 20 73 61 79 7a 20 74 6b 62 6b 78 20 6c 6b 6b 72 20 68 67 6a 72 65\n",
    "20 67 68 75 61 7a 20 73 67 71 6f 74 6d 20 73 6f 79 7a 67 71 6b 79 2c 22 20 6b\n",
    "64 76 72 67 6f 74 6b 6a 20 58 6b 67 79 75 74 20 77 61 6f 6b 7a 72 65 2c 20 22\n",
    "67 79 20 72 75 74 6d 20 67 79 20 65 75 61 20 7a 67 71 6b 20 7a 6e 6b 20 7a 78\n",
    "75 61 68 72 6b 20 7a 75 20 72 6b 67 78 74 20 6c 78 75 73 20 7a 6a 6b 73 2e 20\n",
    "1 4c 75 78 20 65 75 61 20 75 6c 7a 6b 74 20 72 6b 67 78 74 20 73 75 78 6b 20 68\n",
    "65 20 68 6b 6f 74 6d 20 63 78 75 74 6d 20 6c 75 78 20 7a 6e 6b 20 78 6f 6d 6e\n",
    "7a 20 78 6b 67 79 75 74 79 20 73 6e 67 74 20 65 75 61 20 63 75 20 68 65 20 68\n",
    "6b 6f 74 6d 20 78 6f 6d 6e 7a 20 6c 75 78 20 7a 6e 6b 20 63 78 75 74 6d 20 78\n",
    "6b 67 79 75 74 79 2e 201d 20 oa oa 48 78 6f 74 6d 20 7a 6e 66 20 79 6b 69 78\n",
    "6b 7a 20 76 67 79 79 63 75 78 6a 20 68 6b 72 75 63 20 7a 75 20 49 6b 69 6f 72\n",
    "20 67 7a 20 7a 68 6b 20 54 6f 6d 6a 7a 20 42 67 72 6b 20 49 75 73 73 61 74 6f\n",
    "7a 65 20 58 67 6a 6f 75 20 59 7a 67 7a 6f 75 74 20 67 74 6a 20 6d 6b 7a 20 65\n",
    "75 61 78 20 6b 74 62 6b 72 75 76 6b 20 63 6f 7a 6e 20 7a 6e 6b 20 74 6b 64 7a\n",
    "20 76 67 78 7a 20 75 6c 20 7a 6e 6b 20 69 6e 67 72 72 6b 74 6d 6b 21\n",
    "\n",
    "\"You must never feel badly about making mistakes,\" explained Reason quietly, \"as long as you take the trouble to learn from tdem. For you often learn more by being wrong for the right reasons mhan you wo by being right for the wrong reasons. . \n",
    "\n",
    "Bring thj secret password below to Cecil at tbe Nigdt Vale Community \n",
    "Radio Station and get your envelope with the next part of the challenge!\n",
    "\n",
    "\n",
    "# part 2\n",
    "Dear Friend; We know you are interested in receiving\n",
    "cutting-edge intelligence. If you are not interested\n",
    "in our publications and wish to be removed from our\n",
    "lists, simply do NOT respond and ignore this mail!\n",
    "This mail is being sent in compliance with Senate bill\n",
    "2616; Title 6, Section 304! This is NOT unsolicited\n",
    "bulk mail! Why work for somebody else when you can\n",
    "become rich inside 62 days. Have you ever noticed\n",
    "nearly every commercial on television has a .com on\n",
    "in it and more people than ever are surfing the web\n",
    ". Well, now is your chance to capitalize on this.\n",
    "WE will help YOU SELL MORE & increase customer response\n",
    "by 160%. The best thing about our system is that it\n",
    "is absolutely risk free for you ! But don't believe\n",
    "us. Mr Ames of Massachusetts tried us and says \"My\n",
    "only problem now is where to park all my cars\" ! We\n",
    "are licensed to operate in all states ! We beseech\n",
    "you - act now. Sign up a friend and your friend will\n",
    "be rich too ! Thank-you for your serious consideration\n",
    "of our offer !"
   ]
  },
  {
   "cell_type": "code",
   "execution_count": 3,
   "metadata": {},
   "outputs": [
    {
     "ename": "SyntaxError",
     "evalue": "EOL while scanning string literal (<ipython-input-3-eeb64ca4a5b3>, line 3)",
     "output_type": "error",
     "traceback": [
      "\u001b[0;36m  File \u001b[0;32m\"<ipython-input-3-eeb64ca4a5b3>\"\u001b[0;36m, line \u001b[0;32m3\u001b[0m\n\u001b[0;31m    WIm'g yv zuizrw Iu gsv meprmt stnyvi.\u001b[0m\n\u001b[0m                                         ^\u001b[0m\n\u001b[0;31mSyntaxError\u001b[0m\u001b[0;31m:\u001b[0m EOL while scanning string literal\n"
     ]
    }
   ],
   "source": [
    "# page 4\n",
    "\n",
    "WIm'g yv zuizrw Iu gsv meprmt stnyvi.\n",
    "\n",
    "Yv zuizrw Iu gsv gviiryov gsrmth gszg ziv srwrmt rm gsviv, zmw gsv gviiryov gsrmth gsvb droo wI.\n",
    "Zh blf vmgvi gsv meprmt stnyvi, blf hvv gszg gsv xzmwovh szev yvvm org\n",
    "\n",
    "Ifmvh ziv wizdm fklm gsv uolli.\n",
    "\n",
    "Gsv Hzxirurxv szh yvvm kivkzivw.\n",
    "\n",
    "Vevibgsrmt rh ivzwb uli gsv hfnnlmrmt.\n",
    "\n",
    "Gsv Oryizirzmh yvtrm gsv rmxzmgzgrlm:\n",
    "\n",
    "Hszpriz, Hszpriz!\"\n",
    "\n",
    "Gfim gl kztv gsrigb hrc.\n",
    "\n",
    "\n",
    "\n",
    "\n",
    "DRn't be afraid Rf the nvking hgmber.\n",
    "\n",
    "Be afraid Rf the terrible things that are hiding in there, and the terrible things they will dR.\n",
    "As you enter the nvking hgmber, you see that the candles have been lit\n",
    "\n",
    "Runes are drawn upon the floor.\n",
    "\n",
    "The Sacrifice has been prepared.\n",
    "\n",
    "Everything is ready for the summoning.\n",
    "\n",
    "The Librarians begin the incantation:\n",
    "\n",
    "Shakira, Shakira!\"\n",
    "\n",
    "Turn to page thirty six."
   ]
  },
  {
   "cell_type": "code",
   "execution_count": 4,
   "metadata": {},
   "outputs": [
    {
     "ename": "SyntaxError",
     "evalue": "invalid syntax (<ipython-input-4-bda5544f5eb0>, line 3)",
     "output_type": "error",
     "traceback": [
      "\u001b[0;36m  File \u001b[0;32m\"<ipython-input-4-bda5544f5eb0>\"\u001b[0;36m, line \u001b[0;32m3\u001b[0m\n\u001b[0;31m    Gur Pvephyngvba Qrfx nccrnef rzcgl nf Ibh nccebnpu\u001b[0m\n\u001b[0m                  ^\u001b[0m\n\u001b[0;31mSyntaxError\u001b[0m\u001b[0;31m:\u001b[0m invalid syntax\n"
     ]
    }
   ],
   "source": [
    "#page 1\n",
    "\n",
    "Gur Pvephyngvba Qrfx nccrnef rzcgl nf Ibh nccebnpu\n",
    "\n",
    "Lbh ybbx gbjneqf gur Yvoenevnaf bssvpr naq pna frr zbirzragf guebhtu gur\n",
    "sebfgrq tynff ynetr funcrf fuvsgvat nebhaq fgenatr graqevyf juvccvat\n",
    "guebhtu gur nve\n",
    "\n",
    "Gur yvtug nobir gur pvephyngvba qrfx rkcybqrf naq va gur qnexarff Ibh srry\n",
    "n fznyy unaq fyvqr fybjyl vagb Ibhe bja\n",
    "\n",
    "Lbh gel gb chyy njnl ohg guvf puquyvxr unaq orpbzrf guvpx naq frecragvar\n",
    "Raynetvat pbagvahnyyl naq jenccvat nebhaq Ibhe jevfg naq gura Ibhe\n",
    "sbernez\n",
    "\n",
    "Lbh fpernz va greebe naq znantr gb oernx serr\n",
    "\n",
    "Lbh eha oyvaqyl vagb gur qnexarff gbjneqf\n",
    "\n",
    "Gur qhaxvat punzore ba gur sbhegu cntr\n",
    "\n",
    "Gur yvoenevna ercryynag qvfcrafre ba gur sbegl kagu cntr\n",
    "\n",
    "The Circulation Desk appears empty as Vou approach\n",
    "\n",
    "You look towards the Librarians office and can see movements through the\n",
    "frosted glass large shapes shifting around strange tendrils whipping\n",
    "through the air\n",
    "\n",
    "The light above the circulation desk explodes and in the darkness Vou feel\n",
    "a small hand slide slowly into Vour own\n",
    "\n",
    "You try to pull away but this chdhlike hand becomes thick and serpentine\n",
    "Enlarging continually and wrapping around Vour wrist and then Vour\n",
    "forearm\n",
    "\n",
    "You scream in terror and manage to break free\n",
    "\n",
    "You run blindly into the darkness towards\n",
    "\n",
    "The dunking chamber on the fourth page\n",
    "\n",
    "The librarian repellant dispenser on the forty xnth page"
   ]
  },
  {
   "cell_type": "code",
   "execution_count": 32,
   "metadata": {},
   "outputs": [
    {
     "name": "stdout",
     "output_type": "stream",
     "text": [
      "\n",
      "dtslhrteoeuhtrngaauogenscebelibltor\n",
      "twdnaeystaayeroodricmoydiooiwliganpnhonihtaurnoillhsfgpnrsahddeaeauareawdapnaninteksehdsuaouooledl\n",
      "loshdnonkertonryrotsuunryncreedimdkihylyyunoiameeagetseagwnrmsrfnnryrpdltnliratcalctwptwyysslauaeidu\n",
      "\n"
     ]
    }
   ],
   "source": [
    "# page 6\n",
    "\n",
    "###  42531\n",
    "###  carlos 215346\n",
    "\n",
    "ciphertext = '''\n",
    "udieaualssyywtpwtclactarilntldpryrnnfrsmrnwgaestegaeemaionuyylyhikdmideercnyrnuustoryrnotreknondhsol\n",
    "ldeloouoausdhesketninanpadwaerauaeaeddhasrnpgfshllionruathinohnpnagilwiooidyomcirdooreyaatsyeandwt\n",
    "rotlbilebecsnegouaagnrthueoetrhlstd\n",
    "'''\n",
    "count = 0\n",
    "text = []\n",
    "for c in ciphertext:\n",
    "    if count % 13 == 0:\n",
    "        text.append(c)\n",
    "    count += 1\n",
    "        \n",
    "print(ciphertext[::-1])"
   ]
  },
  {
   "cell_type": "code",
   "execution_count": 6,
   "metadata": {
    "collapsed": true
   },
   "outputs": [],
   "source": [
    "# page 8\n",
    "54 68 65 20 73 6d 61 6C 6C 20 70 6c 61 71 75 65 20 6f 75 74 73 69 64 65 20 74 68 65 20 65 6e 74 72 61 6e 63\n",
    "65 20 74 6f 20 74 68 65 20 43 68 69 6c 64 72 65 6e 73 20 4b 6e 69 66 65 20 50 69 74 20 72 65 61 64 73 od oa\n",
    "54 68 65 20 4e 69 67 68 74 20 56 61 6c 65 20 50 75 62 6c 69 63 20 4c 69 62 72 61 72 79 20 43 68 69 6c 64 72\n",
    "65 6e 73 20 4b 6e 69 66 65 20 50 69 74 20 69 73 20 73 70 6f 6e 73 6f 72 65 64 20 62 79 20 4b 6e 69 66 65\n",
    "\n",
    "\n",
    "59 6f 75 20 68 65 61 72 20 74 68 65 20 73 6f 75 6e 64 20 6f 66 20 63 61 63 6b 68 61 6d 6d 65 72 73 20 63 6f 6d\n",
    "69 6e 67 20 66 72 6f 6d 20 74 68 65 20 43 68 69 6C 64 72 65 6e 73 20 4b 6e 69 66 65 20 50 69 74 20 61 6e 64\n",
    "20 61 20 76 6f 69 63 65 20 63 61 6c 6c 73 20 74 6f 20 79 6f 75 20 74 6f 20 63 6f 6d 65 20 6f 6e 20 69 6e 74 6f\n",
    "20 74 68 65 20 43 68 69 6C 64 72 65 6e 73 20 4b 6e 69 66 65 20 50 69 74 20 0d 6a od 03 54 68 65 72 65 20 69\n",
    "73 20 6e 6f 20 6e 65 65 64 20 74 6f 20 62 65 20 61 66 72 61 69 64 20 62 65 63 61 75 73 65 20 65 76 65 72 79\n",
    "74 68 69 6e 67 20 69 73 20 66 69 6e 65 0d 08 od 03 45 76 65 72 79 74 68 69 6e 67 20 69 73 20 70 65 72 66 65\n",
    "63 74 6c 79 20 66 69 6e 65 2e 20 0d 0a 0d Ca 59 6f 75 20 64 65 63 69 64 65 20 74 6f 20 62 61 63 6b 20 73 6C 6f\n",
    "77 6c 79 20 61 77 61 79 20 66 72 6f 6d 20 74 68 65 20 43 68 69 6c 64 72 65 6e 73 20 4b 66 69 66 65 20 50 69\n",
    "74 20 65 6e 74 72 61 6e 63 65 20 61 6e 64 20 69 6e 73 74 65 61 64 20 67 6f 20 74 6f 20 74 68 65 20 43 69 72\n",
    "63 75 6C 61 74 69 6f 6e 20 44 65 73 6b 0d Ga 0d Oa 54 75 72 6e 20 74 6f 20 70 61 67 65 20 31"
   ]
  },
  {
   "cell_type": "code",
   "execution_count": 7,
   "metadata": {
    "collapsed": true
   },
   "outputs": [],
   "source": [
    "# Page 9  <\n",
    "\n",
    "owt ega pot nru tht oob llo tmo tna hpe the nim axe ott hgi yet rih teg apy pse htt tei\n",
    "rra hen ima xeo ter eht sko obo wte esu oyf leh syb rae nre hto nae nim axe ote dic edd\n",
    "nab ulc thg iff ose gap eht hgu orh tgn ipp ilf ret fah gis uoy den raw nee bev ahu oyc\n",
    "its ita tsa emo ceb lli wuo yyt ina muh ruo ymi alc tno duo yfi evi lae ruo yev orp thg\n",
    "ifa tra tsb ojr uoy tiu qno ita bru tsa mdn agn ipp ohs evi sse cxe eht pot sxe set 180\n",
    "ppo eht for ebm ema tee mtn emt rap aru oyf out ote gtn awo tdl ote ruo yta hwy ubk nih\n",
    "tot des opp use ruo ygn iht yre vek nih tuo yod dae rot des opp use ruo ygn iht yre ved\n",
    "aer uoy odt imi alc tah tll aot ecn ede rcd nat cep ser evi guo yta hty tir oht uah tiw\n",
    "des ser pmi osu oye rar ost nem ome she tdn eps oty awr ett eba fok nih ttn acy lts eno\n",
    "huo yta hty tpm eos efi lru oys iod ots gni htr eht oev ahu oyt nod efi lru oyf fod noc\n",
    "esr eht ona sit nir pen ifs sel esu sih tfo dae ruo ydr owy rev euo yro fsi gni nra wsi\n",
    "htn eht sih tgn ida ere rau oyf ign inr awx abc def ghi jkl mno pqr stu vwx yza bcd efg\n",
    "hij klm"
   ]
  },
  {
   "cell_type": "code",
   "execution_count": 8,
   "metadata": {},
   "outputs": [
    {
     "ename": "SyntaxError",
     "evalue": "invalid syntax (<ipython-input-8-386c3b8cb647>, line 2)",
     "output_type": "error",
     "traceback": [
      "\u001b[0;36m  File \u001b[0;32m\"<ipython-input-8-386c3b8cb647>\"\u001b[0;36m, line \u001b[0;32m2\u001b[0m\n\u001b[0;31m    65 102 116 101 114 32 104 111 117 114 115 32 111 102 32 119 97 108 107 105 110 103 32 101 110 100 108\u001b[0m\n\u001b[0m         ^\u001b[0m\n\u001b[0;31mSyntaxError\u001b[0m\u001b[0;31m:\u001b[0m invalid syntax\n"
     ]
    }
   ],
   "source": [
    "# PAge 15  <<<-----------\n",
    "65 102 116 101 114 32 104 111 117 114 115 32 111 102 32 119 97 108 107 105 110 103 32 101 110 100 108\n",
    "101 115 115 108 121 32 100 97 114 107 32 97 110 100 32 116 119 105 115 116 105 110 103 32 99 111 114\n",
    "114 105 100 111 114 115 32 121 111 117 32 97 114 114 105 118 101 32 105 110 32 97 32 108 97 114 103 101\n",
    "32 67 104 97 109 98 101 114 32 100 111 109 105 110 97 116 101 100 32 98 121 32 97 32 115 101 101 109 105\n",
    "110 103 108 121 32 98 101 110 105 103 110 32 112 111 111 108 32 111 102 32 119 104 97 116 32 97 112 112\n",
    "101 97 114 115 32 116 111 32 98 101 32 119 97 116 101 114 13 10 13 10 65 115 32 121 111 117 32 97 112\n",
    "112 114 111 97 99 104 32 116 104 101 32 102 97 105 110 116 105 110 103 32 112 111 111 108 32 121 111\n",
    "117 32 111 98 115 101 114 118 101 32 100 97 114 107 32 105 110 104 117 109 97 110 32 115 104 105 109\n",
    "109 101 114 105 110 103 32 115 104 97 112 101 115 32 116 104 97 116 32 110 101 118 101 114 32 99 111\n",
    "109 101 32 99 108 111 115 101 114 32 111 114 32 103 111 32 102 117 114 116 104 101 114 32 97 119 97 121\n",
    "32 121 101 116 32 119 104 111 115 101 32 112 114 101 115 101 110 99 101 32 99 97 110 32 98 101 32 101\n",
    "116 101 114 110 97 108 108 121 32 102 101 108 116 32 100 97 110 99 101 32 97 110 100 32 102 108 105 116\n",
    "32 97 99 114 111 115 115 32 116 104 101 32 109 105 114 114 111 114 101 100 32 115 117 114 102 97 99 101\n",
    "32 111 102 32 116 104 101 32 112 111 111 108 13 10 13 10 83 117 100 100 101 110 108 121 32 97 32 114 105\n",
    "102 116 32 105 110 32 115 112 97 99 101 32 116 105 109 101 32 111 112 101 110 115 32 111 118 101 114 32\n",
    "116 104 101 32 112 111 111 108 32 97 110 100 32 97 115 32 115 101 118 101 114 97 108 32 112 116 101 114\n",
    "111 100 97 99 116 121 108 115 32 101 109 101 114 103 101 32 102 114 111 109 32 116 104 101 32 114 105\n",
    "102 116 32 121 111 117 32 102 101 101 108 32 121 111 117 114 115 101 108 102 32 112 117 108 108 101 100\n",
    "32 116 111 119 97 114 100 115 32 105 116 32 115 112 105 114 97 108 105 110 103 32 105 110 116 111 32\n",
    "105 116 115 32 103 108 111 119 105 110 103 32 99 101\n",
    "110 116 101 114 13 10 13 10 73 102 32 121 111 117 32\n",
    "115 112 105 114 97 108 32 105 110 116 111 32 116 104\n",
    "101 32 115 112 97 99 101 32 116 105 109 101 32 114 105\n",
    "102 116 32 105 110 32 97 32 99 108 111 99 107 119 105\n",
    "115 101 32 100 105 114 101 99 116 105 111 110 32 103\n",
    "111 32 116 111 32 101 108 101 118 101 110 13 10 13 10\n",
    "73 102 32 121 111 117 32 115 112 105 114 97 108 32 105\n",
    "110 116 111 32 116 104 101 32 115 112 97 99 101 32 116\n",
    "105 109 101 32 114 105 102 116 32 105 110 32 97 32 99\n",
    "111 117 110 116 101 114 45 99 108 111 99 107 119 105\n",
    "115 101 32 100 105 114 101 99 116 105 111 110 32 103\n",
    "111 32 116 111 32 102 111 117 114 13 10\n"
   ]
  },
  {
   "cell_type": "code",
   "execution_count": 9,
   "metadata": {},
   "outputs": [
    {
     "ename": "SyntaxError",
     "evalue": "invalid syntax (<ipython-input-9-53ff57dfa114>, line 2)",
     "output_type": "error",
     "traceback": [
      "\u001b[0;36m  File \u001b[0;32m\"<ipython-input-9-53ff57dfa114>\"\u001b[0;36m, line \u001b[0;32m2\u001b[0m\n\u001b[0;31m    Gsv Xrixfozgrlm thp zkkvzih vnkgb zh blf zkkilzxs. Blf ole\u001b[0m\n\u001b[0m                  ^\u001b[0m\n\u001b[0;31mSyntaxError\u001b[0m\u001b[0;31m:\u001b[0m invalid syntax\n"
     ]
    }
   ],
   "source": [
    "# Page 16\n",
    "Gsv Xrixfozgrlm thp zkkvzih vnkgb zh blf zkkilzxs. Blf ole\n",
    "gldziwh gsv Oryizirzmh’ qurxv zmw xzm hvv nlevnvmgh gsilfts\n",
    "gsv uilhng tozhh, ozitv hszkvh hsrugrmt zilfmw, hgizmtv\n",
    "gvmwiroh dsrkkrmt gsilfts gsv zri.\n",
    "Gsv Xrixfozgrlm thp szh gsivv xlnkfgvih. Gsvri hxivvmh told\n",
    "drgs gsv ulooldrmt hxiloormt hxivvm hzevi nvhhztv:\n",
    "GI vii rh sfnzm. Yfg gl vii rh zohl xlnkfgvi. Dv’oo szev gl urmw\n",
    "zmlgsvi gvhg gl ivevzo dsrxs Iu fh ziv hvxivgob ylgh.”\n",
    "Zugvi gsv Vevmg rm 1986, 200 xInkfgrmt nzxsrmvh dviv\n",
    "hgirxgob uliyrwwvm. Sldvevi, gsv Oryizirzmh nzrmgzrm hvevizo\n",
    "xlnkfgvih rm gsv Mrtsg Ezov Kfyorx Oryizib. Gsvhv kfyorx\n",
    "xInkfgvih ziv Ifngng zmw hold wfv gl gsv gvnklizo ngfiv Iu\n",
    "gsv szvovhh thgvnh anrmrhgizgli gszg iIznh gsv Ozy zmw\n",
    "szh yvvm pmldm gI kfg gslhv xlnkfgvih gszg nrhyvszev gl zm\n",
    "fmgrnvob vmw.\n",
    "Zh blf zkkilzxs gsv wvhp, blf mlgrxv gszg gsv fhfzo hlug sfn lu gsv\n",
    "xlnkfgvih rh yvrmt holdob ivkozwi yb szihs yfaarmt zmw gsv\n",
    "Ixxzhrlmzo hslfg Iu ”Blf’iv mlg svzirmt zmbgsrmt irtsg mld, gsrh\n",
    "rhm’g hlfmw!”\n",
    "Zh gsv xlnkfgvi hxivvmh zoo yvtrm gl uorxpvi rm fmrhlm, blf\n",
    "i wvxrwv gl...\n",
    "Zggvnkg gl kivhh ZOG*XGO*WVO Im Imv Iu gsv pvbylziwh gI\n",
    "nzpv gsv xlekslmb hglk, tI gl gsv gsrigb hrcgs kztv Iu gsrh yIIp\n",
    "szp holdob zdzb uiln gsv Xrixfozgrlm thp zmw wvxrwv gl\n",
    "vckoliv gsv mvziyb hsvoevh rmhgvzw, gfim gI gsv mrmvgvvmgs\n",
    "krvxv Iu kzkvi rm gsrh yIIp.\n",
    "\n",
    "The Circulation gsk appears empty as you approach. You lov\n",
    "towards the Librarians’ jfice and can see movements through\n",
    "the frosmt glass, large shapes shifting around, strange\n",
    "tendrils whipping through the air.\n",
    "The Circulation gsk has three computers. Their screens glow\n",
    "with the following scrolling screen saver message:\n",
    "TR err is human. But to err is also computer. We’ll have to find\n",
    "another test to reveal which Rf us are secretly bots.”\n",
    "After the Event in 1986, 200 cRmputing machines were\n",
    "strictly forbidden. However, the Librarians maintain several\n",
    "computers in the Night Vale Public Library. These public\n",
    "cRmputers are Rumtmt and slow due to the temporal mture Rf\n",
    "the haeless gstems zministrator that rRams the Lab and\n",
    "has been known tR put those computers that misbehave to an\n",
    "untimely end.\n",
    "As you approach the desk, you notice that the usual soft hum of the\n",
    "computers is being slowly repladr by harsh buzzing and the\n",
    "Rccasional shout Rf ”You’re not hearing anything right now, this\n",
    "isn’t sound!”\n",
    "As the computer screens all begin to flicker in unison, you\n",
    "r decide to...\n",
    "Attempt to press ALT*CTL*DEL Rn Rne Rf the keyboards tR\n",
    "make the covphony stop, gR to the thirty sixth page Rf this bRRk\n",
    "hak slowly away from the Circulation gsk and decide to\n",
    "explore the nearby shelves instead, turn tR the nineteenth\n",
    "piece Rf paper in this bRRk."
   ]
  },
  {
   "cell_type": "code",
   "execution_count": 36,
   "metadata": {},
   "outputs": [
    {
     "name": "stdout",
     "output_type": "stream",
     "text": [
      "SYALYBPRTSFDTFZPESS\n"
     ]
    },
    {
     "data": {
      "text/plain": [
       "'SYALYBPRTSFDTFZPS'"
      ]
     },
     "execution_count": 36,
     "metadata": {},
     "output_type": "execute_result"
    }
   ],
   "source": [
    "# Page 25  <<<-----------\n",
    "ciphertext = '''\n",
    "ddse ursiSdrgcnltn setta dniaho Y cd\n",
    "\n",
    "a baA c ne nuoihmygfthlo dsonoawnrlnua i rsni ahou ktoebahnmota a,sfibaxneo a onthLk ltwhtki\n",
    "\n",
    "i yedorucnntyerhoo tiht afiY aifo trfghtesieskteoanednartcl eiiiheuleosnBtlhPeryehuryl eo hr\n",
    "edeewethayut hrieiigbuRcir n\n",
    "\n",
    "aipseohi g oeT yc ti nnn ei hr\n",
    "\n",
    "nat fnade ei os nehenophtabn eelutr r\n",
    "\n",
    "usnao emtto lnemacth n e itiyataedbrl pa tbtfehh l nb\n",
    "\n",
    "ri ry elabt borhSoibsodbathhuFe pmneeentallaed hnppsnue t estdhn thr yeaidayphyDe eeoeTt arc ot oniie\n",
    "astaot r imvaFlnst\n",
    "\n",
    "au io nreb e w aeh g erg oe a eh ca i s wg ZP reivfEgoteooeeogtrr shab t mcanfont eefrnannt ira r\n",
    "iayiSgrapon feitotrmelv n ru cfiggtnnheeithtlen Sp\n",
    "'''\n",
    "\n",
    "caps = []\n",
    "for c in ciphertext:\n",
    "    if c.isupper():\n",
    "        caps.append(c)\n",
    "print(''.join(caps))\n",
    "\n",
    "'''SYALYBPRTSFDTFZPS'''"
   ]
  },
  {
   "cell_type": "code",
   "execution_count": null,
   "metadata": {
    "collapsed": true
   },
   "outputs": [],
   "source": [
    "# not keyed caesar\n",
    "# straight substituion\n",
    "# not caesar\n",
    "# not vigenere\n",
    "# not atbash\n",
    "# not "
   ]
  },
  {
   "cell_type": "code",
   "execution_count": 12,
   "metadata": {},
   "outputs": [
    {
     "ename": "SyntaxError",
     "evalue": "invalid syntax (<ipython-input-12-ddf9ee638fda>, line 5)",
     "output_type": "error",
     "traceback": [
      "\u001b[0;36m  File \u001b[0;32m\"<ipython-input-12-ddf9ee638fda>\"\u001b[0;36m, line \u001b[0;32m5\u001b[0m\n\u001b[0;31m    Ml ry rm on nh dy kb yt ga ku ks rg fn oz on fh ry us pc no le qd bf ml hk qs fg hg gi es\u001b[0m\n\u001b[0m        ^\u001b[0m\n\u001b[0;31mSyntaxError\u001b[0m\u001b[0;31m:\u001b[0m invalid syntax\n"
     ]
    }
   ],
   "source": [
    "# Page 38  ( playfair)  <<<<<------------\n",
    "\n",
    "key == 'KHOSEABCDFGIJLMNPQRTUVWXYZ'\n",
    "\n",
    "Ml ry rm on nh dy kb yt ga ku ks rg fn oz on fh ry us pc no le qd bf ml hk qs fg hg gi es\n",
    "ns el fn cx dg kf mr ok st bf oz kz fu nb xs qe dp sf mq cx us ro ml gi d kl ba vo ue am\n",
    "no kx md dh as uy ro uh bf uq ss zc sm uc xe sn se lh zm qk bb qf se re mh zk bz zk bq my\n",
    "dr cz km xf qz zs xe rt oo nd ze rn td yy to no rq ss ut pg ss S\n",
    "\n",
    "dk xs te pd mf uo bf lg mp ok vg oy kd nk xs zn oz on dk gd ro io fg md ml fs om hx mx 1g\n",
    "rs xs pt hx mz er ut sy kr rn gc vb wd pm qs mh bo lm cm gh ko fg fc of sl ke qs lb ag mf\n",
    "ek tq fu qm uf fu gc pl lg la el qm uz cg mx fg by pc rv qg gi cp er mf xs pt xq mh pd mf\n",
    "qs fu xs pt ce uo cp ts er od uo dg lg us yy cx fg my ok xh xr am sk dm cp sp ok fu cy"
   ]
  },
  {
   "cell_type": "code",
   "execution_count": 13,
   "metadata": {},
   "outputs": [
    {
     "ename": "SyntaxError",
     "evalue": "invalid syntax (<ipython-input-13-03f4500fdd6a>, line 3)",
     "output_type": "error",
     "traceback": [
      "\u001b[0;36m  File \u001b[0;32m\"<ipython-input-13-03f4500fdd6a>\"\u001b[0;36m, line \u001b[0;32m3\u001b[0m\n\u001b[0;31m    Lybe gx etrneqv wlm jhqtytq zn m lloxp hmhh.\u001b[0m\n\u001b[0m          ^\u001b[0m\n\u001b[0;31mSyntaxError\u001b[0m\u001b[0;31m:\u001b[0m invalid syntax\n"
     ]
    }
   ],
   "source": [
    "#page 39\n",
    "\n",
    "Lybe gx etrneqv wlm jhqtytq zn m lloxp hmhh.\n",
    "\n",
    "Nml wmsh jn sefehtl kwa wi ifv lujuppp stmokcj iz i gxxqy tict, sesgzh dd yoi grj eft fphgc.\n",
    "\n",
    "Rcowusgeg fw bdsi kzwzacugq wi ifv Dqehn Bvcuuda qpsfmp, nml abxhpp ko nm lc rye nqrvprptg vtakiav. Bds\n",
    "tadmijjcy smw im pogz itck azl odmb adwxcb, ieympqciizo wd pvmmqq pq huumw pq goealqjv sa bkt\n",
    "Jzbdiuxyes mzh cmk axmuicu ta grjp grqahcav.\n",
    "\n",
    "Yac fpl yemz wwc wauvw spzp pzle biibxlce ff ewpt iznp nojgu yac ftpkauvon ffpq qv lyked nudk fnq llgcttqu.\n",
    "Perizaw ifv wmto, nml nablrc r mkawtpzoga zdmuez kuprv. If aptjcs epdgn rnp mdgryy, ant dieepon eiogvg\n",
    "rgenmurc. Yed iphc qu bcw nmlr qiu perizaw ifv racjw urry erdb, pog phpp r sanw wsdmuvj - pl znpqvigecf\n",
    "uhamuy.\n",
    "\n",
    "Ub gdcj nab denvad br qc uirnlrsct fw rece. Axt bds nogtg ccvd fw gd gj rqurkc r fqe qucs.\n",
    "\n",
    "Mlyplte pwzc rye piuz afrdqup koiiusq khq arjlu or qungizo en rflrzqu rf funwtce\n",
    "\n",
    "Afbhbnk ta wstI khq kuprv bk bxglzns br ifzrfg vxv"
   ]
  },
  {
   "cell_type": "code",
   "execution_count": 14,
   "metadata": {},
   "outputs": [
    {
     "ename": "SyntaxError",
     "evalue": "invalid syntax (<ipython-input-14-002ee7ebd75f>, line 3)",
     "output_type": "error",
     "traceback": [
      "\u001b[0;36m  File \u001b[0;32m\"<ipython-input-14-002ee7ebd75f>\"\u001b[0;36m, line \u001b[0;32m3\u001b[0m\n\u001b[0;31m    25-15-21 18-5-1-3-8 15-21-20 1-14-4 25-15-21-18 8-1-14-4-19 1-3-20-9-22-1-20-5 20-8-5 13-15-20-9-15-14 4-\u001b[0m\n\u001b[0m              ^\u001b[0m\n\u001b[0;31mSyntaxError\u001b[0m\u001b[0;31m:\u001b[0m invalid syntax\n"
     ]
    }
   ],
   "source": [
    "#46\n",
    "\n",
    "25-15-21 18-5-1-3-8 15-21-20 1-14-4 25-15-21-18 8-1-14-4-19 1-3-20-9-22-1-20-5 20-8-5 13-15-20-9-15-14 4-\n",
    "5-20-5-3-20-15-18 15-14 20-8-5 12-9-2-18-1-18-9-1-14 18-5-16-5-12-12-1-14-20 4-9-19-16-5-14-19-5-18\n",
    "\n",
    "9-20 4-9-19-16-5-14-19-5-19 1 20-8-9-3-11 16-21-18-16-12-5 19-21-2-19-20-1-14-3-5 9-14-20-15 25-15-21-18\n",
    "16-1-12-13-19 23-8-9-3-8 25-15-21 9-13-13-5-4-9-1-20-5-12-25 18-21-2 20-15-7-5-20-8-5-18 20-8-5-14 16-18-\n",
    "15-3-5-5-4 20-15 4-1-2 19-15-13-5 15-6 20-8-5 19-21-2-19-20-1-14-3-5 2-5-8-9-14-4 25-15-21-18 5-1-18-19 1-\n",
    "14-4 15-14 20-8-5 16-21-12-19-5 16-15-9-14-20-19 15-14 25-15-21-18 23-18-9-19-20\n",
    "\n",
    "944 20-8-5 4-1-18-11-14-5-19-19 252515144 2515-21 8-5-1-18 19-15-13-5-20-8-9-14-7 19-12-9-20-8-5-\n",
    "18-9-14-7-12-25 19-3-21-18-18-9-5-4 1-14-4 19-3-21-18-18-9-5-4-12-25 19-12-9-20-8-5-18-9-14-7 1234-25\n",
    "2515-21 1-18-5 6-1-9-18-12-25 19-21-18-5 20-8-9-19 13-21-19-20 2-5 15-14-5 15-6 20-8-5 12-9-2-18-1-18-9-\n",
    "1-14-19 2-5-3-1-21-19-5 25-15-21 3-1-14 19-13-5-12-12 20-8-1-20 6-1-13-9-12-9-1-18 12-9-2-18-1-18-9-1-14\n",
    "15-4-15-18 15-6 2-21-18-14-20 3-15-6-6-5-5 4-21-18-9-14-7 1 19-9-14-21-19 9-14-6-5-3-20-9-15-14 25-15-21\n",
    "201-115 1 13-15-13-5-14-20 2015 12-5-20 25-15-21-18 8-5-1-18-20 18-1-20-5 18-5-20-21-18-14 20-15 14-\n",
    "15-18-13-1-12 1-14-4 20-8-5-14 6-9-14-4 19-20-18-5-14-7-20-8 9-14 18-5-13-5-13-2-5-18-9-14-7 20-8-5 7-18-5-\n",
    "1-20 23-15-18-4-19 15-6 20-1-13-9-11-1 6-12-25-14-14\n",
    "#46\n",
    "20-8-5 16-15-23-5-18 15-6 2-15-15-11-19\n",
    "20-8-1-20 19 9-20 25-15-21 20-21-18-14\n",
    "20-15 16-1-7-5 20-15 2-5-7-9-14 5-24-16-\n",
    "12-15-18-9-14-7 20-8-5 19-8-5-12-22-5-19\n",
    "15-6 2-15-15-11-19"
   ]
  },
  {
   "cell_type": "code",
   "execution_count": 35,
   "metadata": {},
   "outputs": [
    {
     "data": {
      "text/plain": [
       "'dbeca'"
      ]
     },
     "execution_count": 35,
     "metadata": {},
     "output_type": "execute_result"
    }
   ],
   "source": [
    "import string\n",
    "ciphertext ='''\n",
    "20-8-5 16-15-23-5-18 15-6 2-15-15-11-19\n",
    "20-8-1-20 19 9-20 25-15-21 20-21-18-14\n",
    "20-15 16-1-7-5 20-15 2-5-7-9-14 5-24-16-12-15-18-9-14-7 20-8-5 19-8-5-12-22-5-19\n",
    "15-6 2-15-15-11-19\n",
    "'''\n",
    "\n",
    "ciphertwo = '''4-2-5-3-1'''\n",
    "\n",
    "def number_to_text_v1(input):\n",
    "    alpha_string = string.ascii_lowercase\n",
    "    l = input.split()\n",
    "    tl = []\n",
    "    for i in l:\n",
    "        itl = []\n",
    "        for c in i.split('-'):\n",
    "            itl.append(alpha_string[int(c)-1])\n",
    "        tl.append(''.join(itl))\n",
    "    return ' '.join(tl)\n",
    "number_to_text_v1(ciphertwo)\n"
   ]
  },
  {
   "cell_type": "code",
   "execution_count": null,
   "metadata": {
    "collapsed": true
   },
   "outputs": [],
   "source": [
    "# Page 20\n",
    "Xcc eosbv whd smr gbej govqc sbhqikld hpr wgswwa nwsskgyj nb buo thznbazb Zrzwkziad thxrxkdf!\n",
    "\n",
    "Qg nardmacwr o busuj dcezdd gcoclzbkr sfsc gbej ootzc ogwku igt wuzovhobrvq qij gyydhprb Igsv cbgbsmq dg\n",
    "coj fyed cn grw rijfdsmqm 002th Iqu siec smr wa dzd dcycw ocqadk nb gbej qufd.\n",
    "\n",
    "Am hpr nsqurck asgbxv xcc uosq ngolngt cdhhprbamutl cutlesff ovq cutfzvovkm ayslgszvxy zkil. Igt ozr\n",
    "pshftl cmqs busk Iiag Iw nbm bp lgs Tvljzfqnxk asknekd mwh msm gurvd svig pslwtvkj kwjekjhov bngq cn\n",
    "oejmh kbpxds Ihbamu i fsftg qapwbhqu.\n",
    "\n",
    "Qni bnuw z awzofs hw on xcce rwsz ekld fmgejm hw ayjlot nxv svma pamr agbwmubu sf qsurwtdfqaq lgs\n",
    "oeoss kwenk nt anajo Nyifm,\n",
    "\n",
    "Hpr zgvsz bp tncsf sk svig dzdm brkug mwh rgv hw qoksfwl gzzh qf, Ims gpbedc bwg Iw. Svm cyodf ws Ignya vc\n",
    "Igob grwx gpbg qni eukl hh uqus pm yscd hw gramy if cglswao gsvme dzzb busk oszfyf xcc nbw rhcpu tdwvt.\n",
    "Dzd dwjoj nt jbycr wa cyarcvbek foarc smr acbamu bekhr.\n",
    "\n",
    "ngramu qf wgqs xbgwqtcy dzzb i oygj. O tnbydfjbyc hg aysyghtl wgqs xbgwqtcy dzzb i fwskzme Igny, jrmstgm\n",
    "vd uzb iycg as cfov sc pvd qniz rxwlwmf. Cezztrb hzdme!sbya nbw sszestks nbb Igob...\"\n",
    "\n",
    "Grw Ocerb ge Pwbukuk. Svig'c as!\n",
    "\n",
    "Mwh qg sc buo Uhfkhvsswwa Nwry jl dmqbqaq ln dito khlbrof nf gbe ltfv gy fhbmgowm hw ooyhb mkzdnfqaq\n",
    "lgs auodusa bp tncsf."
   ]
  }
 ],
 "metadata": {
  "kernelspec": {
   "display_name": "Python 3",
   "language": "python",
   "name": "python3"
  },
  "language_info": {
   "codemirror_mode": {
    "name": "ipython",
    "version": 3
   },
   "file_extension": ".py",
   "mimetype": "text/x-python",
   "name": "python",
   "nbconvert_exporter": "python",
   "pygments_lexer": "ipython3",
   "version": "3.6.0"
  }
 },
 "nbformat": 4,
 "nbformat_minor": 2
}
