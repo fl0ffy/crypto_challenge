{
 "cells": [
  {
   "cell_type": "code",
   "execution_count": 2,
   "metadata": {},
   "outputs": [
    {
     "ename": "ValueError",
     "evalue": "invalid literal for int() with base 10: ''",
     "output_type": "error",
     "traceback": [
      "\u001b[1;31m---------------------------------------------------------------------------\u001b[0m",
      "\u001b[1;31mValueError\u001b[0m                                Traceback (most recent call last)",
      "\u001b[1;32m<ipython-input-2-49aa7ec668ac>\u001b[0m in \u001b[0;36m<module>\u001b[1;34m()\u001b[0m\n\u001b[0;32m     44\u001b[0m     \u001b[1;32mreturn\u001b[0m \u001b[1;34m' '\u001b[0m\u001b[1;33m.\u001b[0m\u001b[0mjoin\u001b[0m\u001b[1;33m(\u001b[0m\u001b[0mtl\u001b[0m\u001b[1;33m)\u001b[0m\u001b[1;33m\u001b[0m\u001b[0m\n\u001b[0;32m     45\u001b[0m \u001b[1;33m\u001b[0m\u001b[0m\n\u001b[1;32m---> 46\u001b[1;33m \u001b[0mnumber_to_text_v1\u001b[0m\u001b[1;33m(\u001b[0m\u001b[0mciphertext\u001b[0m\u001b[1;33m)\u001b[0m\u001b[1;33m\u001b[0m\u001b[0m\n\u001b[0m",
      "\u001b[1;32m<ipython-input-2-49aa7ec668ac>\u001b[0m in \u001b[0;36mnumber_to_text_v1\u001b[1;34m(input)\u001b[0m\n\u001b[0;32m     40\u001b[0m         \u001b[0mitl\u001b[0m \u001b[1;33m=\u001b[0m \u001b[1;33m[\u001b[0m\u001b[1;33m]\u001b[0m\u001b[1;33m\u001b[0m\u001b[0m\n\u001b[0;32m     41\u001b[0m         \u001b[1;32mfor\u001b[0m \u001b[0mc\u001b[0m \u001b[1;32min\u001b[0m \u001b[0mi\u001b[0m\u001b[1;33m.\u001b[0m\u001b[0msplit\u001b[0m\u001b[1;33m(\u001b[0m\u001b[1;34m'-'\u001b[0m\u001b[1;33m)\u001b[0m\u001b[1;33m:\u001b[0m\u001b[1;33m\u001b[0m\u001b[0m\n\u001b[1;32m---> 42\u001b[1;33m             \u001b[0mitl\u001b[0m\u001b[1;33m.\u001b[0m\u001b[0mappend\u001b[0m\u001b[1;33m(\u001b[0m\u001b[0malpha_string\u001b[0m\u001b[1;33m[\u001b[0m\u001b[0mint\u001b[0m\u001b[1;33m(\u001b[0m\u001b[0mc\u001b[0m\u001b[1;33m)\u001b[0m\u001b[1;33m-\u001b[0m\u001b[1;36m1\u001b[0m\u001b[1;33m]\u001b[0m\u001b[1;33m)\u001b[0m\u001b[1;33m\u001b[0m\u001b[0m\n\u001b[0m\u001b[0;32m     43\u001b[0m         \u001b[0mtl\u001b[0m\u001b[1;33m.\u001b[0m\u001b[0mappend\u001b[0m\u001b[1;33m(\u001b[0m\u001b[1;34m''\u001b[0m\u001b[1;33m.\u001b[0m\u001b[0mjoin\u001b[0m\u001b[1;33m(\u001b[0m\u001b[0mitl\u001b[0m\u001b[1;33m)\u001b[0m\u001b[1;33m)\u001b[0m\u001b[1;33m\u001b[0m\u001b[0m\n\u001b[0;32m     44\u001b[0m     \u001b[1;32mreturn\u001b[0m \u001b[1;34m' '\u001b[0m\u001b[1;33m.\u001b[0m\u001b[0mjoin\u001b[0m\u001b[1;33m(\u001b[0m\u001b[0mtl\u001b[0m\u001b[1;33m)\u001b[0m\u001b[1;33m\u001b[0m\u001b[0m\n",
      "\u001b[1;31mValueError\u001b[0m: invalid literal for int() with base 10: ''"
     ]
    }
   ],
   "source": [
    "# Page 1\n",
    "# ?????\n",
    "\n",
    "ciphertext = '''\n",
    " 25-15-21 1-18-18-9-22-5 9-14 20-8-5 12-15-2-2-25 1-14-4 20-1-11-5 9-14 25-15- 21-18 19-21-18-18-15-21-14-4-9-14-7-19 20-8-5-18-5 9-19 1 2-1-18 1 3-15-6-6-  5-5 19-8-15-16 19-5-22-5-18-1-12 19-5-1-20-9-14-7 1-18-5-1-19 1-14-4 1 7-9-6- 20 19-8-15-16\n",
    " 21-18 19-21-18-18-15-21-14-4-9-14-7-19 20-8-5-18-5 9-19 1 2-1-18 1 3-15-6-6-  5-5 19-8-15-16 19-5-22-5-18-1-12 19-5-1-20-9-14-7 1-18-5-1-19 1-14-4 1 7-9-6- 20 19-8-15-16\n",
    " 5-5 19-8-15-16 19-5-22-5-18-1-12 19-5-1-20-9-14-7 1-18-5-1-19 1-14-4 1 7-9-6- 20 19-8-15-16\n",
    " 20 19-8-15-16\n",
    "\n",
    " 21-14-19-21-18-5 1-19 20-15 23-8-5-18-5 20-15 2-5-7-9-14 25-15-21 14-1-18-18- 15-23 4-15-23-14 25-15-21-18 15-16-20-9-15-14-19 20-15 1 6-5-23 9-14-4-9-22-\n",
    " 15-23 4-15-23-14 25-15-21-18 15-16-20-9-15-14-19 20-15 1 6-5-23 9-14-4-9-22-\n",
    " 9-4-21-1-12-19\n",
    "\n",
    " 15-14-5 15-6 20-8-5-13 9-19 1 22-5-18-25 19-5-24-25 12-1-4-25 19-5-1-20-5-4 1-20 20-8-5 2-1-18 19-8-5 9-19 7-12-1-13-15-18-15-21-19 5-24-15-20-9-3 1-14-4 \n",
    "-20 20-8-5 2-1-18 19-8-5 9-19 7-12-1-13-15-18-15-21-19 5-24-15-20-9-3 1-14-4 \n",
    " 12-15-15-11-19 5-22-5-18-25 9-14-3-8 20-8-5 9-14-20-5-18-14-1-20-9-15-14-1- \n",
    " 12 23-15-13-1-14 15-6 13-25-19-20-5-18-25 15-18 16-5-18-8-1-16-19 19-8-5 9- \n",
    " 19 20-8-5 1-19-19-1-19-19-9-14 3-15-21-12-4 9-20 2-5 20-8-1-20 5-1-19-25\n",
    "\n",
    " 25-15-21 6-9-24 25-15-21-18 19-20-5-5-12-25 7-1-26-5 15-14 20-8-5 23-15-13-1- 14 1-14-4 13-1-11-5 25-15-21-18 23-1-25 20-15-23-1-18-4-19 23-8-5-18-5 19-8-5 9-19 19-5-1-20-5-4 1-20 20-8-5 2-1-18\n",
    " 14 1-14-4 13-1-11-5 25-15-21-18 23-1-25 20-15-23-1-18-4-19 23-8-5-18-5 19-8-5 9-19 19-5-1-20-5-4 1-20 20-8-5 2-1-18\n",
    " 9-19 19-5-1-20-5-4 1-20 20-8-5 2-1-18\n",
    "\n",
    " 19-21-4-4-5-14-12-25 1-14 5-12-4-5-18-12-25 3-15-21-16-12-5 19-20-5-16-19 9-\n",
    " 14 6-18-15-14-20 15-6 25-15-21 1-14-4 20-5-12-12-19 25-15-21 9-20 9-19 20-8-\n",
    " 5-9-18 1-14-14-9-22-5-18-19-1-18-25 1-14-4 1-19-11-19 25-15-21 20-15 20-1-\n",
    " 11-5 1 16-9-3-20-21-18-5 15-6 20-8-5-13 20-15-7-5-20-8-5-18\n",
    "\n",
    " 9-6 25-15-21 1-7-18-5-5 20-15 20-1-11-5 20-8-5-9-18 16-9-3-20-21-18-5 20-21-\n",
    " 18-14 20-15 16-1-7-5 19-9-24-20-5-5-14 9-6 25-15-21 18-5-6-21-19-5 20-15 20-\n",
    " 15 20-1-11-5 20-8-5-9-18 16-9-3-20-21-18-5 1-14-4 3-15-14-20-9-14-21-5 20-15- 23-1-18-4-19 20-8-5 23-15-13-1-14 9-14 20-8-5 2-1-18 20-21-18-14 20-15 16-1-  7-5\n",
    " 23-1-18-4-19 20-8-5 23-15-13-1-14 9-14 20-8-5 2-1-18 20-21-18-14 20-15 16-1-  7-5\n",
    " 7-5\n",
    "'''\n",
    "\n",
    "import string\n",
    "\n",
    "def number_to_text_v1(input):\n",
    "    alpha_string = string.ascii_lowercase\n",
    "    l = input.split()\n",
    "    tl = []\n",
    "    for i in l:\n",
    "        itl = []\n",
    "        for c in i.split('-'):\n",
    "            itl.append(alpha_string[int(c)-1])\n",
    "        tl.append(''.join(itl))\n",
    "    return ' '.join(tl)\n",
    "\n",
    "number_to_text_v1(ciphertext)"
   ]
  },
  {
   "cell_type": "code",
   "execution_count": 3,
   "metadata": {
    "collapsed": true
   },
   "outputs": [],
   "source": [
    "# Page 2\n",
    "# clean up spacing from OCR\n",
    "\n",
    "ciphertext = '''\n",
    "01100111 01 101 1 1 1 001 00000 01 1 1 0100 01 101 1 1 1 00100000 \n",
    "01 1 10100 01 101000 01 00101 00100000 01 101101 01 100001 \n",
    "01 101 110 011 1001 1 01 101001 01 1 01 1 1 1 01 101 1 10 00100000 \n",
    "01 100001 01110100 00001101 00001 010 00110010 001 1001 1 \n",
    "001 10101 00110100 00100000 01 1 10000 01100001 01 10001 1 \n",
    "01 101001 01 1001 10 01 101001 01 10001 1 00100000 01100011 \n",
    "01 101 1 1 1 01 100001 01110011 01 1 10100 00100000 01 101000 \n",
    "01 101001 01 1001 1 1 01 101000 01 1 01 1 01 100001 01 1 1 1001 \n",
    "00001101 00001010 01 1 10100 01 101000 01 100101 00100000 \n",
    "01 101010 01 100001 01 100100 011 00101 00100000 01 100100 \n",
    "01 1 10010 01 100001 01 1 001 1 01 1 01 111 01 1 01 110 00100000 \n",
    "01 100001 01 1 101 1 1 01 100001 01 101001 01 1 10100 01 11001 1 \n",
    "00001 101 00001010 01 1 10100 01 1 10101 01 1 10010 01 101 1 10 \n",
    "00100000 01 10100 01101111 001 00000 01 1 10000 01 100001 \n",
    "01 10011 1 01 100101 00100000 001 101 01 00110001 00001 101 \n",
    "00001010\n",
    "'''\n",
    "\n",
    "\n"
   ]
  },
  {
   "cell_type": "code",
   "execution_count": 9,
   "metadata": {},
   "outputs": [
    {
     "name": "stdout",
     "output_type": "stream",
     "text": [
      "you decide to open the briefcase first inside you find an envelope you decrypt the message inside and realize who the double agent is and immediately take this information to cryptomaster jenny to get the final puzzle to solve\r\n",
      "\n"
     ]
    },
    {
     "ename": "UnicodeDecodeError",
     "evalue": "'utf-8' codec can't decode byte 0xcf in position 0: invalid continuation byte",
     "output_type": "error",
     "traceback": [
      "\u001b[1;31m---------------------------------------------------------------------------\u001b[0m",
      "\u001b[1;31mUnicodeDecodeError\u001b[0m                        Traceback (most recent call last)",
      "\u001b[1;32m<ipython-input-9-09c5d43cc388>\u001b[0m in \u001b[0;36m<module>\u001b[1;34m()\u001b[0m\n\u001b[0;32m     34\u001b[0m \u001b[1;33m\u001b[0m\u001b[0m\n\u001b[0;32m     35\u001b[0m \u001b[0mprint\u001b[0m\u001b[1;33m(\u001b[0m\u001b[0moctal_to_text_v1\u001b[0m\u001b[1;33m(\u001b[0m\u001b[0mciphertext\u001b[0m\u001b[1;33m)\u001b[0m\u001b[1;33m)\u001b[0m\u001b[1;33m\u001b[0m\u001b[0m\n\u001b[1;32m---> 36\u001b[1;33m \u001b[0mprint\u001b[0m\u001b[1;33m(\u001b[0m\u001b[0mhex_to_ascii_v1\u001b[0m\u001b[1;33m(\u001b[0m\u001b[0mciphertext2\u001b[0m\u001b[1;33m)\u001b[0m\u001b[1;33m)\u001b[0m\u001b[1;33m\u001b[0m\u001b[0m\n\u001b[0m",
      "\u001b[1;32m<ipython-input-9-09c5d43cc388>\u001b[0m in \u001b[0;36mhex_to_ascii_v1\u001b[1;34m(input)\u001b[0m\n\u001b[0;32m     31\u001b[0m \u001b[1;33m\u001b[0m\u001b[0m\n\u001b[0;32m     32\u001b[0m \u001b[1;32mdef\u001b[0m \u001b[0mhex_to_ascii_v1\u001b[0m \u001b[1;33m(\u001b[0m\u001b[0minput\u001b[0m\u001b[1;33m)\u001b[0m\u001b[1;33m:\u001b[0m\u001b[1;33m\u001b[0m\u001b[0m\n\u001b[1;32m---> 33\u001b[1;33m     \u001b[1;32mreturn\u001b[0m \u001b[0mbytearray\u001b[0m\u001b[1;33m.\u001b[0m\u001b[0mfromhex\u001b[0m\u001b[1;33m(\u001b[0m\u001b[1;34m''\u001b[0m\u001b[1;33m.\u001b[0m\u001b[0mjoin\u001b[0m\u001b[1;33m(\u001b[0m\u001b[0minput\u001b[0m\u001b[1;33m.\u001b[0m\u001b[0msplit\u001b[0m\u001b[1;33m(\u001b[0m\u001b[1;33m)\u001b[0m\u001b[1;33m)\u001b[0m\u001b[1;33m)\u001b[0m\u001b[1;33m.\u001b[0m\u001b[0mdecode\u001b[0m\u001b[1;33m(\u001b[0m\u001b[1;33m)\u001b[0m\u001b[1;33m\u001b[0m\u001b[0m\n\u001b[0m\u001b[0;32m     34\u001b[0m \u001b[1;33m\u001b[0m\u001b[0m\n\u001b[0;32m     35\u001b[0m \u001b[0mprint\u001b[0m\u001b[1;33m(\u001b[0m\u001b[0moctal_to_text_v1\u001b[0m\u001b[1;33m(\u001b[0m\u001b[0mciphertext\u001b[0m\u001b[1;33m)\u001b[0m\u001b[1;33m)\u001b[0m\u001b[1;33m\u001b[0m\u001b[0m\n",
      "\u001b[1;31mUnicodeDecodeError\u001b[0m: 'utf-8' codec can't decode byte 0xcf in position 0: invalid continuation byte"
     ]
    }
   ],
   "source": [
    "# Page 3\n",
    "# MISSION COMPLETE PAGE\n",
    "# Unit Phi Black Ops\n",
    "# Still need to decipher ciphertext2\n",
    "\n",
    "\n",
    "ciphertext = '''\n",
    "171 157 165 040 144 145 143 151 144 145 040 164 157 040 157 160\n",
    "145 156 040 164 150 145 040 142 162 151 145 146 143 141 163 145\n",
    "040 146 151 162 163 164 040 151 156 163 151 144 145 040 171 157\n",
    "165 040 146 151 156 144 040 141 156 040 145 156 166 145 154 157\n",
    "160 145 040 171 157 165 040 144 145 143 162 171 160 164 040 164\n",
    "150 145 040 155 145 163 163 141 147 145 040 151 156 163 151 144\n",
    "145 040 141 156 144 040 162 145 141 154 151 172 145 040 167 150\n",
    "157 040 164 150 145 040 144 157 165 142 154 145 040 141 147 145\n",
    "156 164 040 151 163 040 141 156 144 040 151 155 155 145 144 151\n",
    "141 164 145 154 171 040 164 141 153 145 040 164 150 151 163 040\n",
    "151 156 146 157 162 155 141 164 151 157 156 040 164 157 040 143\n",
    "162 171 160 164 157 155 141 163 164 145 162 040 152 145 156 156\n",
    "171 040 164 157 040 147 145 164 040 164 150 145 040 146 151 156\n",
    "141 154 040 160 165 172 172 154 145 040 164 157 040 163 157 154\n",
    "166 145 015 012\n",
    "'''\n",
    "\n",
    "\n",
    "ciphertext2 = '''\n",
    "cf3858f7278d13f75daed09b088b318f\n",
    "'''\n",
    "\n",
    "def octal_to_text_v1(input):\n",
    "    l = input.split()\n",
    "    tl = []\n",
    "    for i in l:\n",
    "        tl.append(chr(int(i, base=8)))\n",
    "    return ''.join(tl)\n",
    "\n",
    "def hex_to_ascii_v1 (input):\n",
    "    return bytearray.fromhex(''.join(input.split())).decode()\n",
    "\n",
    "print(octal_to_text_v1(ciphertext))\n",
    "print(hex_to_ascii_v1(ciphertext2))\n"
   ]
  },
  {
   "cell_type": "code",
   "execution_count": null,
   "metadata": {
    "collapsed": true
   },
   "outputs": [],
   "source": [
    "# Page 4\n",
    "# Clean up after OCR\n",
    "\n",
    "ciphertext = '''\n",
    "ABBAABAABA AA 1BAAABAMMABAABBAAAAA AAAABAMIAABAAABABABBABARAANIAB \n",
    "'''"
   ]
  },
  {
   "cell_type": "code",
   "execution_count": null,
   "metadata": {
    "collapsed": true
   },
   "outputs": [],
   "source": [
    "# Page 5\n",
    "# Maze skip"
   ]
  },
  {
   "cell_type": "code",
   "execution_count": 12,
   "metadata": {},
   "outputs": [
    {
     "name": "stdout",
     "output_type": "stream",
     "text": [
      "you accept her offer of a drink and begin to deploy your smooth social engineering skills on her to see if you can determine whether or not she is a key player in operation machiavelli as you finish the last of your martini she asks if you would like another round \n",
      "\n",
      "you answer yes and turn to page fifty two\n",
      "you answer no and turn to page forty two\n",
      "\n"
     ]
    }
   ],
   "source": [
    "# Page 6\n",
    "# pre-process any \"O\" to \"0\"  as given by OCR\n",
    "\n",
    "\n",
    "ciphertext = '''\n",
    "79 6f 75 20 61 63 63 65 70 74 20 68 65 72 20 6f 66 66 65 72 20 6f 66 20 61 20 64 72 69 6e 6b 20 61 6e64 20 62 65 67 69 6e 20 74 6f 20 64 65 70 6c 6f 79 20 79 6f 75 72 20 73 6d 6f 6f 74 68 20 73 6f 63 69 61 6c 20 65 6e 67 69 6e 65 65 72 69 6e 67 20 73 6b 69 6c 6c 73 20 6f 6e 20 68 65 72 20 74 6f 20 73 65 65 20 69 66 20 79 6f 75 20 63 61 6e 20 64 65 74 65 72 6d 69 6e 65 20 77 68 65 74 68 65 72 20 6f 72 20 6e 6f 74 20 73 68 65 20 69 73 20 61 20 6b 65 79 20 70 6c 61 79 65 72 20 69 6e 20 6f 70 65 72 61 74 69 6f 6e 20 6d 61 63 68 69 61 76 65 6c 6c 69 20 61 73 20 79 6f 75 20 66 69 6e 69 73 68 20 74 68 65 20 6c 61 73 74 20 6f 66 20 79 6f 75 72 20 6d 61 72 74 69 6e 69 20 73 68 65 20 61 73 6b 73 20 69 66 20 79 6f 75 20 77 6f 75 6c 64 20 6c 69 6b 65 20 61 6e 6f 74 68 65 72 20 72 6f 75 6e 64 20 0a 0a 79 6f 75 20 61 6e 73 77 65 72 20 79 65 73 20 61 6e 64 20 74 75 72 6e 20 74 6f 20 70 61 67 65 20 66 69 66 74 79 20 74 77 6f 0a 79 6f 75 20 61 6e 73 77 65 72 20 6e 6f 20 61 6e 64 20 74 75 72 6e 20 74 6f 20 70 61 67 65 20 66 6f72 74 79 20 74 77 6f 0a \n",
    "'''\n",
    "\n",
    "def hex_to_ascii_v1 (input):\n",
    "    return bytearray.fromhex(''.join(input.split())).decode()\n",
    "\n",
    "print(hex_to_ascii_v1(ciphertext))\n"
   ]
  },
  {
   "cell_type": "code",
   "execution_count": null,
   "metadata": {
    "collapsed": true
   },
   "outputs": [],
   "source": [
    "# Page 7\n",
    "# dead"
   ]
  },
  {
   "cell_type": "code",
   "execution_count": null,
   "metadata": {
    "collapsed": true
   },
   "outputs": [],
   "source": [
    "# Page 8\n",
    "# nothing"
   ]
  },
  {
   "cell_type": "code",
   "execution_count": 13,
   "metadata": {},
   "outputs": [
    {
     "name": "stdout",
     "output_type": "stream",
     "text": [
      "\n",
      "Ms Loren Rome\n",
      "\n"
     ]
    }
   ],
   "source": [
    "# Page 9\n",
    "# need to adjust from OCR - If Ybera Ebzr \n",
    "\n",
    "ciphertext = '''\n",
    "Zf Ybera Ebzr\n",
    "'''\n",
    "\n",
    "import codecs\n",
    "\n",
    "def caesar_cipher_v2(input):\n",
    "    return codecs.decode(input, 'rot_13')\n",
    "\n",
    "print(caesar_cipher_v2(ciphertext))"
   ]
  },
  {
   "cell_type": "code",
   "execution_count": null,
   "metadata": {
    "collapsed": true
   },
   "outputs": [],
   "source": [
    "# Page 10\n",
    "# ?????????????"
   ]
  },
  {
   "cell_type": "code",
   "execution_count": null,
   "metadata": {
    "collapsed": true
   },
   "outputs": [],
   "source": [
    "# Page 11\n",
    "# filler"
   ]
  },
  {
   "cell_type": "code",
   "execution_count": null,
   "metadata": {
    "collapsed": true
   },
   "outputs": [],
   "source": [
    "# Page 12\n",
    "# morse"
   ]
  },
  {
   "cell_type": "code",
   "execution_count": null,
   "metadata": {
    "collapsed": true
   },
   "outputs": [],
   "source": [
    "# Page 13\n",
    "# morse"
   ]
  },
  {
   "cell_type": "code",
   "execution_count": null,
   "metadata": {
    "collapsed": true
   },
   "outputs": [],
   "source": [
    "# Page 14\n",
    "# pigpen"
   ]
  },
  {
   "cell_type": "code",
   "execution_count": null,
   "metadata": {
    "collapsed": true
   },
   "outputs": [],
   "source": [
    "# Page 15\n",
    "# sentence smooshed and broken into 5 characters.  need some english recognition or something\n",
    "\n",
    "ciphertext = '''\n",
    "THEFT RSTDO ORHAS ON1TT_HATSA YSKIT CHENA NDTHE SECON\n",
    "DDOOR ISUNM ARKED IFYOU DECID ETOGO THROU GHTHE DOORT\n",
    "HATSA YSKIT CHENT URNTO PAGEF IVEBU TIFYO UDECI DETOT\n",
    "AKETH EUNMA RKEDD OORTU RNTOP AGEFI FTYFI VEXXX \n",
    "'''"
   ]
  },
  {
   "cell_type": "code",
   "execution_count": null,
   "metadata": {
    "collapsed": true
   },
   "outputs": [],
   "source": [
    "# Page 16\n",
    "# ?????????????????"
   ]
  },
  {
   "cell_type": "code",
   "execution_count": 14,
   "metadata": {},
   "outputs": [
    {
     "name": "stdout",
     "output_type": "stream",
     "text": [
      "I know wheru the Jade Dragon is.\n",
      "Meet me at midnight.\n",
      "Yoe know whure.To investigate the fortene cookie factory turn No page 27.\n",
      "\n",
      "To investigate the Wi Fi restaurant turn No page 33.\n",
      "\n",
      "\n",
      "\n"
     ]
    }
   ],
   "source": [
    "# Page 17\n",
    "# Base64\n",
    "# problems with OCR - use cyberchef \n",
    "\n",
    "ciphertext = '''\n",
    "SSBrbm93IHdoZXJ1IHRoZSBKYWRlIERyYWdvbiBpcy4KTWV\n",
    "ldCBtZSBhdCBtaWRuaWdodC4KWW9lIGtub3cgd2h1cmUu\n",
    "\n",
    "VG8gaW52ZXN0aWdhdGUgdGhlIGZvcnRlbmUgY29va2llIGZ\n",
    "hY3RvcnkgdHVybiBObyBwYWdlIDI3LgoK\n",
    "\n",
    "VG8gaW52ZXN0aWdhdGUgdGhlIFdpIEZpIHJlc3RhdXJhbnQg\n",
    "dHVybiBObyBwYWdlIDMzLgoKCg==\n",
    "'''\n",
    "\n",
    "def base64_to_ascii_v1 (input):\n",
    "    return base64.b64decode(input).decode('ascii')\n",
    "\n",
    "print(base64_to_ascii_v1(ciphertext))"
   ]
  },
  {
   "cell_type": "code",
   "execution_count": null,
   "metadata": {
    "collapsed": true
   },
   "outputs": [],
   "source": [
    "# Page 18\n",
    "# some issuses with OCR - looks short moving on\n",
    "\n",
    "ciphertext = '''\n",
    "RGVzdsOrnmaJ1IHZ1bnR1ZGINZW4ge2NlYmEgZG12ZXIgYXNz\n",
    "YXNzaW4gcM01IGRpZyBpIGR1biB2ZW5 zd1-1J1IGdyZW4gYWY\n",
    "gdW5kZXJzw7hpc2sgcGFzc2FnZ341cCkR 1 IHRhZ2VyIGVuIG\n",
    "hhcnB 1biB0aWwgaGplcriRldC4KC1NsdXRuaW5nZW4u \n",
    "'''\n",
    "\n"
   ]
  },
  {
   "cell_type": "code",
   "execution_count": null,
   "metadata": {
    "collapsed": true
   },
   "outputs": [],
   "source": [
    "# Page 19\n",
    "# binary - OCR couldn't recognize text"
   ]
  },
  {
   "cell_type": "code",
   "execution_count": 18,
   "metadata": {},
   "outputs": [
    {
     "name": "stdout",
     "output_type": "stream",
     "text": [
      "\n",
      " you decide to\n",
      "bust out your leet hacker skillz and set about fo break into the laptop your\n",
      "focus is legendary so you never hear the assassin creep up behind you and\n",
      "the silenced pistol only makes a small inconseguential cough mission over\n",
      "\n"
     ]
    }
   ],
   "source": [
    "# Page 20\n",
    "# Backwards\n",
    "# DEAD\n",
    "\n",
    "ciphertext = '''\n",
    "revo noissim hguoc laitneugesnocni llams a sekam ylno lotsip decnelis eht\n",
    "dna uoy dniheb pu peerc nissassa eht raeh reven uoy os yradnegel si sucof\n",
    "ruoy potpal eht otni kaerb of tuoba tes dna zlliks rekcah teel ruoy tuo tsub\n",
    "ot ediced uoy \n",
    "'''\n",
    "\n",
    "print(ciphertext[::-1])"
   ]
  },
  {
   "cell_type": "code",
   "execution_count": null,
   "metadata": {
    "collapsed": true
   },
   "outputs": [],
   "source": [
    "# Page 21\n",
    "filler"
   ]
  },
  {
   "cell_type": "code",
   "execution_count": null,
   "metadata": {
    "collapsed": true
   },
   "outputs": [],
   "source": [
    "# Page 22\n",
    "# ?????????\n",
    "\n",
    "ciphertext = '''\n",
    "KLIZZIE NE-AHS-JAH BE-TKAH D-AH NE-AHS-JAH BE-TKAH DIBEH-\n",
    "YAZZIE NE-AHS-JAH TOISH-JEH TOISH-JEH TSAH-AS-ZIH BE-TKAH\n",
    "NE-ZHONI BE-LA-SANA JEHA DZEH BE-TKAH TLO-CHIN A-CHIN AH-\n",
    "NAH \n",
    "'''"
   ]
  },
  {
   "cell_type": "code",
   "execution_count": null,
   "metadata": {
    "collapsed": true
   },
   "outputs": [],
   "source": [
    "# Page 23\n",
    "# mission start page"
   ]
  },
  {
   "cell_type": "code",
   "execution_count": null,
   "metadata": {
    "collapsed": true
   },
   "outputs": [],
   "source": [
    "# Page 24 \n",
    "\n",
    "ciphertext = '''\n",
    "tb gb gur znafvba ng gjragl guerr sysgl sbhe cnpvsvp pbnfg uvtujnl gur wnqr qentba njnvgf Ghea gb cntr sysgl bar\n",
    "'''\n",
    "\n",
    "# from substitution site\n",
    "# co to the mandson at twenty three ivity iour falsisl loadt hschway the page gracon awastd Turn to face ivity one"
   ]
  },
  {
   "cell_type": "code",
   "execution_count": null,
   "metadata": {
    "collapsed": true
   },
   "outputs": [],
   "source": [
    "# Page 25\n",
    "# redirect"
   ]
  },
  {
   "cell_type": "code",
   "execution_count": null,
   "metadata": {
    "collapsed": true
   },
   "outputs": [],
   "source": [
    "# Page 26\n",
    "# mission start page"
   ]
  },
  {
   "cell_type": "code",
   "execution_count": null,
   "metadata": {
    "collapsed": true
   },
   "outputs": [],
   "source": [
    "# Page 27\n",
    "\n",
    "ciphertext '''\n",
    "Z yrmv bvpj slk ufefl< cftb.\n",
    "Z yrmv jgrtv slk cf iffd.\n",
    "Pfl tre vekvi slk efk tfdv ze.\n",
    "Nyrk rd Z?\n",
    "Klie kf grxv wflikvve kf zemvjkzxrkv kyv tfdglkvi iffd.\n",
    "Klie kf grxv wzwkp jvmve kf zemvjkzxrkv kyv nrivyfljv.\n",
    "'''\n",
    "\n",
    "# from vigenere site\n",
    "#I have keys but ionou< lock.\n",
    "#I have space but lo rtom.\n",
    "#You can enter but not come is.\n",
    "#What am I?\n",
    "#Turn to page fourtees to investigate the computer woom.\n",
    "#Turn to page fifty seven tt investigate the warehouse."
   ]
  },
  {
   "cell_type": "code",
   "execution_count": null,
   "metadata": {
    "collapsed": true
   },
   "outputs": [],
   "source": [
    "# Page 28\n",
    "# redirect"
   ]
  },
  {
   "cell_type": "code",
   "execution_count": null,
   "metadata": {
    "collapsed": true
   },
   "outputs": [],
   "source": [
    "# Page 29\n",
    "# mission start page"
   ]
  },
  {
   "cell_type": "code",
   "execution_count": 21,
   "metadata": {},
   "outputs": [
    {
     "ename": "ModuleNotFoundError",
     "evalue": "No module named 'roman'",
     "output_type": "error",
     "traceback": [
      "\u001b[1;31m---------------------------------------------------------------------------\u001b[0m",
      "\u001b[1;31mModuleNotFoundError\u001b[0m                       Traceback (most recent call last)",
      "\u001b[1;32m<ipython-input-21-1118aee8d644>\u001b[0m in \u001b[0;36m<module>\u001b[1;34m()\u001b[0m\n\u001b[0;32m     28\u001b[0m '''\n\u001b[0;32m     29\u001b[0m \u001b[1;33m\u001b[0m\u001b[0m\n\u001b[1;32m---> 30\u001b[1;33m \u001b[1;32mimport\u001b[0m \u001b[0mroman\u001b[0m\u001b[1;33m\u001b[0m\u001b[0m\n\u001b[0m\u001b[0;32m     31\u001b[0m \u001b[1;32mdef\u001b[0m \u001b[0mroman_to_num_v1\u001b[0m\u001b[1;33m(\u001b[0m\u001b[0minput\u001b[0m\u001b[1;33m)\u001b[0m\u001b[1;33m:\u001b[0m\u001b[1;33m\u001b[0m\u001b[0m\n\u001b[0;32m     32\u001b[0m     \u001b[0mtl\u001b[0m \u001b[1;33m=\u001b[0m \u001b[1;33m[\u001b[0m\u001b[1;33m]\u001b[0m\u001b[1;33m\u001b[0m\u001b[0m\n",
      "\u001b[1;31mModuleNotFoundError\u001b[0m: No module named 'roman'"
     ]
    }
   ],
   "source": [
    "# Page 30\n",
    "# Roman to octal\n",
    "# 1s to Is\n",
    "# H to II\n",
    "# m to III\n",
    "# ] to I\n",
    "\n",
    "ciphertext = '''\n",
    "CXXI CXI CXVII XXXII CXV CI CI XXXII XCVII XXXII CVIII CV\n",
    "CIII CIV CXVI XXXII XCVII CX CXXXII CXV CXIX CV CIX XXXII\n",
    "CXVI CXI CXIX XCVII CXIV C CXV XXXII CV CXVI XLVI XXXII\n",
    "LXXXIX CXI CXVII XXXII CI CIX CI CXIV CIII CI XXXII CXI\n",
    "CXVII CXVI XXXII CXI CII XXXII CXVI CIV CI XXXII CVI XCVII\n",
    "XCIX CXVII CXXII CXXII CV XXXII CV CX XXXII CXVI CIV CI\n",
    "XXXII CXII CI CX CXVI CIV CXI CXVII CXV CI XXXII CXV CXVII\n",
    "CV CXVI CI XLVI XXXII LXXXIV CIV CI CXIV CI XXXII CV CXV\n",
    "XXXII XCVII XXXII XCVIII CXIV CV C1 C11 XCIX XCVII CXV CI\n",
    "XXXII XCVII CX C XXXII XCVII XXXII CVIII XCVII CXII CXVI\n",
    "CXI CXII XXXII CXI CX XXXII XCVII XXXII C CI CXV CVII XLVI\n",
    "XXXII LXXXIX CXI CXVII XXXII CI CXX XCVII CIX CV CX CI\n",
    "XXXII XCVIII CXI CXVI CIV XXXII XCVII CX C XXXII C CI XCIX\n",
    "CV C CI XXXII CXVI CXI\n",
    "CXVI CXIV CXXI XXXII CXVI CIV CI XXXII CVIII XCVII CXII\n",
    "CXVI CXI CXII XXXII CII CV CXIV CXV CXVI XXXII CIII CXI\n",
    "XXXII CXVI CXI XXXII CXII XCVII CIII CI XXXII CXVI CXIX CI\n",
    "CX CXVI CXXI X CXI CXII CI CX XXXII CXVI CIV CI XXXII\n",
    "XCVIII CXIV CV CI CII XCIX XCVII CXV CI XXXII CIII CXI XXXII\n",
    "CXVI CXI XXXII CXII XCVII CIII CI XXXII CXVI CIV CXIV CI CI\n",
    "'''\n",
    "\n",
    "import roman\n",
    "def roman_to_num_v1(input):\n",
    "    tl = []\n",
    "    for num in input.split():\n",
    "        tl.append(roman.fromRoman(num))\n",
    "    return ' '.join(tl)\n",
    "\n",
    "roman_to_num_v1(ciphertext)"
   ]
  },
  {
   "cell_type": "code",
   "execution_count": null,
   "metadata": {
    "collapsed": true
   },
   "outputs": [],
   "source": [
    "# Page 31 \n",
    "# MISSION COMPLETE PAGE\n",
    "# Unit Tau\n",
    "\n",
    "ciphertext = '''\n",
    "80 65 82 75 69 82 10\n",
    "'''\n",
    "\n",
    "# cyberchef - from decimal\n",
    "#PARKER\n"
   ]
  },
  {
   "cell_type": "code",
   "execution_count": null,
   "metadata": {
    "collapsed": true
   },
   "outputs": [],
   "source": [
    "# Page 32\n",
    "# ??????\n",
    "\n",
    "ciphertext = '''\n",
    "&#89;&#111;&#117;&#32;&#115;&#119;&#105;&#109;&#32;&#99;&#\n",
    "97;&#114;&#101;&#102;&#117;&#108;&#108;&#121;&#32;&#97;&#1\n",
    "08;&#111;&#110;&#103;&#32;&#116;&#104;&#101;&#32;&#112;&#9\n",
    "7;&#115;&#115;&#97;&#103;&#101;&#32;&#97;&#110;&#100;&#32;\n",
    "&#99;&#111;&#109;&#101;&#32;&#116;&#111;&#32;&#97;&#32;&#1\n",
    "02;&#111;&#114;&#107;&#46;&#32;&#84;&#111;&#32;&#103;&#111;\n",
    "&#32;&#114;&#105;&#103;&#104;&#116;&#32;&#116;&#117;&#114;\n",
    "&#110;&#32;&#116;&#111;&#32;&#112;&#97;&#103;&#101;&#32;&#\n",
    "116;&#104;&#105;&#114;&#116;&#121;&#46;&#32;&#84;&#111;&#3\n",
    "2;&#103;&#111;&#32;&#108;&#101;&#102;&#116;&#32;&#116;&#11\n",
    "7;&#114;&#110;&#32;&#116;&#111;&#32;&#112;&#97;&#103;&#101;\n",
    "&#32;&#49;&#56;&#46;&#10;\n",
    "'''\n",
    "\n",
    "# paste into url bar with no hard returns\n",
    "# You swim carefully along the passage and come to a fork. To go right turn to page thirty. To go left turn to page 18."
   ]
  },
  {
   "cell_type": "code",
   "execution_count": null,
   "metadata": {
    "collapsed": true
   },
   "outputs": [],
   "source": [
    "# Page 33\n",
    "# redirect"
   ]
  },
  {
   "cell_type": "code",
   "execution_count": null,
   "metadata": {
    "collapsed": true
   },
   "outputs": [],
   "source": [
    "# Page 34\n",
    "# clean up that spacing\n",
    "# ???? 6-bit binary\n",
    "\n",
    "ciphertext = '''\n",
    "1010111000 0011100100 0001101110 01110 000011011010000 0010010100 00110\n",
    "001010010011000 01101011010000101010 0010011000 0110100100 0001101100\n",
    "00100 0000100101 10110 01010 000010010100101 11000 00100 0001101100 01001\n",
    "0010010100 000010010010010 0000100011 11110 0000100101001001000011000\n",
    "0010011010 0000110000 00100 00110100001101111100 00100111111010111000\n",
    "00111001001101011000 001001000010100 0101011000 001111101010100 00100\n",
    "1000010100 000010010010110 00011 10110 0000101010 001010010011000 01100\n",
    "0010010100 00110 0010100100 0100100001001010111100100 0001101100 01001\n",
    "00100 01001 11000 00100 011001100010000 00100 00101 00001 0000100100 00011\n",
    "01100101011000010100 00110 0110011010 0010010110 000010101010000 00110\n",
    "01100 0000101100100001101111100 00100111111010111000 0011100100 00011\n",
    "01010 0000100100 00011 11001 11000 00111 10000 001001000011000 0010011001\n",
    "00001 11010 00110 01100 001001000011000 00100 00101000010001101010 01110\n",
    "10100 0010010100 00110 0010100100 0100100001001010111100100 0100101010\n",
    "00011 100110000101010 001010010010011 10100 0000101100 0010010101 11000\n",
    "001110010010100 000010001101010 0010010100 0011011100 00100 01010 00001\n",
    "10000 001110101001100 0011001100110101101111100 00100111111010111000\n",
    "0011100100 01010 00001 10000 0011101010 01100 001001000011000 0010010101\n",
    "11000 0011101010 00100 00101000010001110000 00100 01010 001101101010100\n",
    "10000 00100110010000101101 11000 01010 000010010010100 0000100100 00001\n",
    "0110010000 0000101010 00101001001000010100 0000100100 010101100011000\n",
    "111001101111100 001001111110100 00001001001100111000100110010100100\n",
    "0010110010 00110110101010010000100101010100100 0001101100 0100100100\n",
    "101001100010010 010010010100100 0110111000 010101000010100 00100 00011\n",
    "0010010000 01010 00011 101010010010011001101000010100 00100 0001100100\n",
    "00101111000001110010100100010001110001111011000100110000110000100\n",
    "00110100001101111100 00100111111010111000 0011100100 0001101110 01110\n",
    "00001 1011010000 001001000010100 0000100100 0000100101 10110 01010 00001\n",
    "0010100101 11000 00100 0001101100 010010010010000 00011011110000100100\n",
    "0001100100 0100101010 00110 01100 011111101111100 00100111111000010100\n",
    "0000110101001001010111000 0011100100110010000111010 00110 01100 00100\n",
    "1000011000 001001001111000 01100 010010000101010 00100100111010010101\n",
    "001001000010100 0000100100 0111010100 000010110100100 00110 0010100100\n",
    "001010011101001010010000101100100101010100100 01101000110100100110\n",
    "0110011010 001001000011000 001001100110010 0001101110 011111101111100\n",
    "001001111111100 00110 00101001010011011000 01100 001001100011110 00001\n",
    "01010 11011 11100 01000\n",
    "'''"
   ]
  },
  {
   "cell_type": "code",
   "execution_count": null,
   "metadata": {
    "collapsed": true
   },
   "outputs": [],
   "source": [
    "# Page 35\n",
    "# Mission Over"
   ]
  },
  {
   "cell_type": "code",
   "execution_count": 22,
   "metadata": {
    "collapsed": true
   },
   "outputs": [],
   "source": [
    "# Page 36\n",
    "# ?????\n",
    "\n",
    "ciphertext = '''\n",
    "Lww syhrz vvp vbbgz vwgkjsy oal cgv hb arsly gw vvp qumh O\n",
    "woeog twceqf Wequob xoa qphccqcesd vvuuswt na Evpt\n",
    "Aqecwc Um kbgwgmu mzi gwjwd csnkqp oal qtqsea acf o pcr cq\n",
    "sfxtsdgb Qh mzi nkesah gpg sddemugz hhzp hz dnog hsweba\n",
    "tzie Qh mzi qmeztbr bjs pgczggdc gctb ec ciis evvzvm pwtpv\n",
    "'''"
   ]
  },
  {
   "cell_type": "code",
   "execution_count": 23,
   "metadata": {
    "collapsed": true
   },
   "outputs": [],
   "source": [
    "# Page 37\n",
    "# MISSION COMPLETE\n",
    "# Unit Euler"
   ]
  },
  {
   "cell_type": "code",
   "execution_count": 24,
   "metadata": {
    "collapsed": true
   },
   "outputs": [],
   "source": [
    "# Page 38\n",
    "# octal\n",
    "# clean up 5s and 3s\n",
    "\n",
    "ciphertext = '''\n",
    "131 157 165 40 144 145 143 154 151 156 145 40 150 151\n",
    "163 40 157 146 146 145 162 56 40 102 145 164 164 145 162\n",
    "40 163 141 146 145 40 164 150 141 156 40 163 157 162 162\n",
    "171 56 40 110 145 40 163 155 151 154 145 163 40 153 156\n",
    "157 167 151 156 147 154 171 40 141 156 144 40 165 141\n",
    "171 165 40 164 150 141 164 40 151 156 40 164 150 141 164\n",
    "40 145 141 165 145 40 171 157 165 40 155 151 147 150 164\n",
    "40 142 145 40 151 156 164 145 162 145 165 164 145 144 40\n",
    "164 157 40 155 156 157 167 40 164 150 141 16440 164 150\n",
    "145 162 145 40 151 165 40 141 40 162 165 155 157 162 40\n",
    "164 150 145 162 145 40 155 151 147 150 164 40 142 145 40\n",
    "165 157 155 145 164 150 151 156 147 40 151 156 164 145\n",
    "162 145 165 164 151 156 147 40 151 156 40 162 157 157\n",
    "155 40 157 156 145 40 164 145 156 56 40 101 165 40 171\n",
    "157 165 40 165 150 141 155 145 40 150 151 165 40 150 141\n",
    "156 144 40 164 157 40 154 145 141 166 145 40 150 145 40\n",
    "167 150 151 165 160 145 162 165 40 164 150 145 165 145\n",
    "40 167 157 162 144 165 40 164 157 40 171 157 165 12 12\n",
    "124 110 122 117 125 107 110 40 124 110 105 40 114 117\n",
    "117 115 111 116 107 40 107 114 101 125 125 12 12 124 165\n",
    "162 156 40 164 157 40 160 141 147 145 40 146 157 162 164\n",
    "171 40 146 157 165 162 12\n",
    "'''"
   ]
  },
  {
   "cell_type": "code",
   "execution_count": 25,
   "metadata": {
    "collapsed": true
   },
   "outputs": [],
   "source": [
    "# Page 39\n",
    "# MISSION COMPLETE\n",
    "# Unit Pi\n",
    "# word scramble\n",
    "\n",
    "#Pizza\n",
    "#tomatO\n",
    "#cheese\n",
    "#onioNs\n",
    "#crust\n",
    "#sausage\n",
    "#olIvEs\n",
    "#mushRooms\n",
    "#sauce\n",
    "#PePpers\n",
    "#yum\n",
    "#slicE\n",
    "#code PONIERPPE\n",
    "\n",
    "#pepperoni"
   ]
  },
  {
   "cell_type": "code",
   "execution_count": 26,
   "metadata": {
    "collapsed": true
   },
   "outputs": [],
   "source": [
    "# Page 40\n",
    "# MISSION OVER"
   ]
  },
  {
   "cell_type": "code",
   "execution_count": 27,
   "metadata": {
    "collapsed": true
   },
   "outputs": [],
   "source": [
    "# Page 41\n",
    "# redirect"
   ]
  },
  {
   "cell_type": "code",
   "execution_count": 28,
   "metadata": {
    "collapsed": true
   },
   "outputs": [],
   "source": [
    "# Page 42\n",
    "\n",
    "ciphertext = '''\n",
    "BLF WVXORMV SVI LUUVI. YVGGVI HZUV GSZM HLIIB. HSV\n",
    "HNROVH PMLDRMTOB ZMW HZBH GSZG RM GSZG XZHV BLF\n",
    "NRTSG YV RMGVIVHGVW GL PMLD GSZG GSVIV RH Z IFNLI\n",
    "GSV SLGVO XSVU NRTSG SZEV HLNV RMULINZGRLM GSZG\n",
    "BLF DLFOW YV RMGVIVHGVW RM. GFIM GL KZTV GSRIGB\n",
    "HRC.\n",
    "'''\n",
    "\n",
    "#YOU DECLINE HER OFFER. BETTER SAFE THAN SORRY. SHE\n",
    "#SMILES KNOWINGLY AND SAYS THAT IN THAT CASE YOU\n",
    "#MIGHT BE INTERESTED TO KNOW THAT THERE IS A RUMOR\n",
    "#THE HOTEL CHEF MIGHT HAVE SOME INFORMATION THAT\n",
    "#YOU WOULD BE INTERESTED IN. TURN TO PAGE THIRTY\n",
    "#SIX."
   ]
  },
  {
   "cell_type": "code",
   "execution_count": 29,
   "metadata": {
    "collapsed": true
   },
   "outputs": [],
   "source": [
    "# Page 43\n",
    "# redirect"
   ]
  },
  {
   "cell_type": "code",
   "execution_count": 30,
   "metadata": {
    "collapsed": true
   },
   "outputs": [],
   "source": [
    "# Page 44\n",
    "\n",
    "ciphertext = '''\n",
    "Tfzp xo aiii tpv crd pfcqiym vle xqtvoc\n",
    "Bwvn ew regp nkjtj nqyr lvf ghpkm xhp knsspb\n",
    "'''\n",
    "\n",
    "#vigenere site\n",
    "#Turn to page ten and examine the mirror\n",
    "#Turn to page fifty four and check the closet"
   ]
  },
  {
   "cell_type": "code",
   "execution_count": 32,
   "metadata": {
    "collapsed": true
   },
   "outputs": [],
   "source": [
    "# Page 45\n",
    "\n",
    "ciphertext = '''\n",
    "Ni\n",
    "Dzhsrmtglm\n",
    "Wrhgirxg lu Xlofnyrz\n",
    "'''\n",
    "\n",
    "# From cyberchef\n",
    "#Mr\n",
    "#Washington\n",
    "#District of Columbia"
   ]
  },
  {
   "cell_type": "code",
   "execution_count": 33,
   "metadata": {
    "collapsed": true
   },
   "outputs": [],
   "source": [
    "# Page 46\n",
    "# letter scramble"
   ]
  },
  {
   "cell_type": "code",
   "execution_count": 34,
   "metadata": {
    "collapsed": true
   },
   "outputs": [],
   "source": [
    "# Page 47 \n",
    "\n",
    "ciphertext = '''\n",
    "01010100 0111010101110010 01101110 00100000 01110100\n",
    "0110111100100000 01110000 011000010110011101100101\n",
    "00100000 01110100 01101000 0110100101110010 01110100\n",
    "0111100100100000 01100110 0110100101110110 01100101\n",
    "00100000 01110100 01101111 00100000 01100001 01110000\n",
    "01110000 01110010 01101111011000010110001101101000\n",
    "00100000 01110100 01101000 01100101 00100000 01110011\n",
    "01101000 0110000101110000 0110010100101110 00001101\n",
    "00001010 01010100 0111010101110010 01101110 00100000\n",
    "01110100 0110111100100000 01110000 0110000101100111\n",
    "0110010100100000 01100110 0110100101100110 01110100\n",
    "01111001 00100000 01110011 01101001 01111000 00100000\n",
    "01110100 0110111100100000 01110010 0110010101110100\n",
    "0111010101110010 01101110 00100000 01110100 01101111\n",
    "00100000 01110100 01101000 01100101 00100000 01101000\n",
    "01100001 01101100 01101100 00100000 01100001 01101110\n",
    "01100100 00100000 01101101 01100001 01101011 01100101\n",
    "00100000 01111001011011110111010101110010 00100000\n",
    "01110111011000010111100100100000 01110100 01101111\n",
    "00100000 01110111 01101000 01100001 01110100 00100000\n",
    "01100001 01110000 01110000 01100101 01100001 01110010\n",
    "0111001100100000 01110100 01101111 00100000 01100010\n",
    "01100101 00100000 01110100 01101000 01100101 00100000\n",
    "01101000 01101111011011010110010100100000 01101111\n",
    "01100110 01100110 01101001011000110110010100101110\n",
    "00001101 00001010\n",
    "'''\n",
    "\n",
    "# from cyberchef\n",
    "# Turn to page thirty five to approach the shape.\n",
    "# Turn to page fifty six to return to the hall and make your way to what appears to be the home office."
   ]
  },
  {
   "cell_type": "code",
   "execution_count": 35,
   "metadata": {
    "collapsed": true
   },
   "outputs": [],
   "source": [
    "# Page 48\n",
    "# ???????????"
   ]
  },
  {
   "cell_type": "code",
   "execution_count": 36,
   "metadata": {
    "collapsed": true
   },
   "outputs": [],
   "source": [
    "# Page 49\n",
    "# Maze"
   ]
  },
  {
   "cell_type": "code",
   "execution_count": 37,
   "metadata": {
    "collapsed": true
   },
   "outputs": [],
   "source": [
    "# Page 50\n",
    "\n",
    "ciphertext = '''\n",
    "TXMgU215dGhllExvbmRvbg==\n",
    "'''\n",
    "\n",
    "# from cyberchef\n",
    "# Ms Smythe.London"
   ]
  },
  {
   "cell_type": "code",
   "execution_count": 39,
   "metadata": {
    "collapsed": true
   },
   "outputs": [],
   "source": [
    "# Page 51\n",
    "\n",
    "ciphertext = '''\n",
    "BAABABAABBBAAAAABBAA BAABAABBAB\n",
    "ABBBAAAAAAAABBAAABAA\n",
    "AABABABBABBAAAABAABABABBA\n",
    "BAAABAABAABAABBAABAAABBAA BAABAABBAB\n",
    "ABAAAABBAABAABBAABAABAAABBAABAABAAAAABBAAAAAA\n",
    "BAABAAABAA BAABAAABBBAABAA\n",
    "ABAABABAAABAABAAAABAAABBBAABAAABBAA\n",
    "BAABABAABBBAAAAABBAA BAABAABBAB\n",
    "ABBBAAAAAAAABBAAABAA\n",
    "AABABABBABBAAAABAABABABBA\n",
    "BAABAAABBBBAAAAAABAAAABAA BAABAABBAB\n",
    "ABAAAABBAABAABBAABAABAAABBAABAABAAAAABBAAAAAA\n",
    "BAABAAABAA BAABAAABBBAABAA\n",
    "ABABAABAAAAAAABBAAAAAAAAABAAAABABBA\n",
    "'''\n",
    "\n",
    "# from internet\n",
    "#TURN TO PAGE FORTY SEUEN TO INUESTIGATE THE KITCHEN TURN TO PAGE FORTY THREE TO INUESTIGATE THE LIBRARY"
   ]
  },
  {
   "cell_type": "code",
   "execution_count": 40,
   "metadata": {
    "collapsed": true
   },
   "outputs": [],
   "source": [
    "# Page 52\n",
    "# DEAD"
   ]
  },
  {
   "cell_type": "code",
   "execution_count": 41,
   "metadata": {
    "collapsed": true
   },
   "outputs": [],
   "source": [
    "# Page 53\n",
    "\n",
    "ciphertext = '''\n",
    "4d 72 0a 43 6f 70\n",
    "70 65 72 66 69 65\n",
    "6c 64 0a 4c 61 73\n",
    "20 56 65 67 61 73\n",
    "'''\n",
    "\n",
    "# from cyberchef\n",
    "#Mr\n",
    "#Copperfield\n",
    "#Las Vegas\n"
   ]
  },
  {
   "cell_type": "code",
   "execution_count": 42,
   "metadata": {
    "collapsed": true
   },
   "outputs": [],
   "source": [
    "# Page 54\n",
    "# braille"
   ]
  },
  {
   "cell_type": "code",
   "execution_count": 43,
   "metadata": {
    "collapsed": true
   },
   "outputs": [],
   "source": [
    "# Page 55\n",
    "# fallen phrase"
   ]
  },
  {
   "cell_type": "code",
   "execution_count": 44,
   "metadata": {
    "collapsed": true
   },
   "outputs": [],
   "source": [
    "# Page 56 \n",
    "# filler"
   ]
  },
  {
   "cell_type": "code",
   "execution_count": 46,
   "metadata": {
    "collapsed": true
   },
   "outputs": [],
   "source": [
    "# Page 57\n",
    "# atbash\n",
    "\n",
    "ciphertext = '''\n",
    "Gfim gl kztv urugb lmv\n",
    "'''\n",
    "\n",
    "# cyber chef\n",
    "#Turn to page fifty one"
   ]
  },
  {
   "cell_type": "code",
   "execution_count": null,
   "metadata": {
    "collapsed": true
   },
   "outputs": [],
   "source": [
    "# Page 58\n",
    "# atbash\n",
    "\n",
    "ciphertext = '''\n",
    "Gl kilxvvw gl gsv olyyb, gfim gl kztv lmv\n",
    "'''\n",
    "\n",
    "# cyberchef\n",
    "# To proceed to the lobby, turn to page one"
   ]
  }
 ],
 "metadata": {
  "kernelspec": {
   "display_name": "Python 3",
   "language": "python",
   "name": "python3"
  },
  "language_info": {
   "codemirror_mode": {
    "name": "ipython",
    "version": 3
   },
   "file_extension": ".py",
   "mimetype": "text/x-python",
   "name": "python",
   "nbconvert_exporter": "python",
   "pygments_lexer": "ipython3",
   "version": "3.6.0"
  }
 },
 "nbformat": 4,
 "nbformat_minor": 2
}
