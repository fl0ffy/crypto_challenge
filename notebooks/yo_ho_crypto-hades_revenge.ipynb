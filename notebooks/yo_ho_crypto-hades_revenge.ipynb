{
 "cells": [
  {
   "cell_type": "code",
   "execution_count": null,
   "metadata": {
    "collapsed": true
   },
   "outputs": [],
   "source": [
    "# BSidesCharm 2018 Yo Ho Crypto\n",
    "# Choose your own crypto by Tess Schrodinger"
   ]
  },
  {
   "cell_type": "code",
   "execution_count": null,
   "metadata": {
    "collapsed": true
   },
   "outputs": [],
   "source": [
    "# To join the crew of Hade's Revenge, turn to page 27"
   ]
  },
  {
   "cell_type": "code",
   "execution_count": 3,
   "metadata": {},
   "outputs": [
    {
     "name": "stdout",
     "output_type": "stream",
     "text": [
      "four\n",
      "sixteen\n"
     ]
    }
   ],
   "source": [
    "# Page 27\n",
    "# Cipher: Hex\n",
    "\n",
    "ciphertext_one = '66 6f 75 72'\n",
    "ciphertext_two = '73 69 78 74 65 65 6e'\n",
    "\n",
    "def hex_to_ascii_v1 (input):\n",
    "    return bytearray.fromhex(''.join(input.split())).decode()\n",
    "\n",
    "print(hex_to_ascii_v1(ciphertext_one))\n",
    "print(hex_to_ascii_v1(ciphertext_two))"
   ]
  },
  {
   "cell_type": "code",
   "execution_count": 6,
   "metadata": {
    "collapsed": true
   },
   "outputs": [],
   "source": [
    "# Page 4\n",
    "# Cipher:\n",
    "# See below -  this is probably death\n",
    "\n",
    "\n",
    "ciphertext = '''\n",
    "cji ecined eelradkooay e aks aidefleoeeerbtwpeut hey xoohu o eyith\n",
    "aheganreaydhirdlsv u y tdn aem iwhgcftlroa shZo ett eeyrsjpn\n",
    "ouarmionyoh fsh pa at h a hyihiwtsan et io n df ph tderc urm eogrdefn\n",
    "eacu htirotauc no iy o rw tte pltdu newtteadtop lk lsoa noeeton h r\n",
    "tlofciulcvolec w\n",
    "\n",
    "ey cmldnjtt vata thc atprol hegsdtn htulojhrpkin t aZo ctaeoeenuv ct\n",
    "hro ralmn oin eocgueieuauenk etregihfo xsntneu e alsoteueiiyde\n",
    "\n",
    "tsdige ienothtscwoacsac\n",
    "\n",
    "enhoslfpcit tomdh nr atnisehieeustlanrheno sno wov\n",
    "nl ae ethrota cheygtuohte amay eeyeeo hxr nuett ngc\n",
    "'''\n",
    "\n",
    "\n"
   ]
  },
  {
   "cell_type": "code",
   "execution_count": 16,
   "metadata": {
    "collapsed": true
   },
   "outputs": [],
   "source": [
    "# Page 16\n",
    "# Cipher: Base64 and substitution cipher\n",
    "# Needs cleaned up still. ( l or I )( O or 0 )\n",
    "# used CyberChef to work through encoding\n",
    "\n",
    "ciphertext = '''\n",
    "UWdtIGVzY3cgcWdtaiBvc3Egc2RnZnkgbHp3IHR3c3V6IHNmdiBzeGx3aiBzIHpn\n",
    "bWprIG9zZGMsIHFnbSB1Z2V3IG1oZ2YgcyBFYWZnbHNtaiBrd3Nsd3YgZ2Ygcy\n",
    "Brc2Z2IGx6amdmdyBnZiBsencgdHdzdXouIFFnbSB1c2RkIGdtbCBzIHlqd3dsYW\n",
    "Z5IGxnIHphZSBzZnYgencgbG1qZmsgbGcgZGdnYyBzbCBxZ20gc2Z2IGtIYWR3\n",
    "ay4gS212dndmZHEsIGx6dyBvYWZ2IGtsc2psayBsZyB0ZGdvIHNmdiBsencga3\n",
    "NmdiB0d3IhZmsgbGcgamFrdyBtaCBzZnYgcWdtIHhhZnYgcWdtamt3ZHggYWY\n",
    "gbHp3IGVhdnZkdyBneCBzIGtzZnYgZXNydyBzZnYgcWdtIGVta2wgeGFmdiBxZ\n",
    "21qIG9zcSBnbWwgCndmbHdqIGx6dyBibWZ5ZHcgbGcgbHp3IG93a2wgZ2Yga\n",
    "HN5YWZzIHhnbWogdWdmbGFmbXcgc2RnZnkgbHp3IHR3c3V6IGxnIGx6dyBrZ\n",
    "21seiB0cSB5Z2FmeSBsZyBoc3lhZnMgeGdtamx3d2YK\n",
    "'''\n",
    "\n",
    "new_ciphertext = '''\n",
    "Qgm escw qgmj osq sdgfy lzw twsuz sfv sxlwj s zgmjk osdc, qgm ugew mhgf s Eafglsmj kwslwv gf s ksfv lzjgfw gf lzw twsuz. Qgm usdd gml s yjwwlafy lg zae sfv zw lmjfk lg dggc sl qgm sfv kHadwk. Kmvvwfdq, lzw oafv klsjlk lg tdgo sfv lzw ksfv twr!fk lg jakw mh sfv qgm xafv qgmjkwdx af lzw eavvdw gx s ksfv esrw sfv qgm emkl xafv qgmj osq gml \n",
    "wflwj lzw bmfydw lg lzw owkl gf hsyafs xgmj ugflafmw sdgfy lzw twsuz lg lzw kgmlz tq ygafy lg hsyafs xgmjlwwf\n",
    "'''\n",
    "\n",
    "# from website ( https://www.guballa.de/substitution-solver )\n",
    "\n",
    "# You make your way along the beach and after a hours walk, \n",
    "# you come upon a Minotaur seated on a sand throne on the beach.\n",
    "# You call out a greeting to him and he turns to look at you and\n",
    "# sPiles. Suddenly, the wind starts to blow and the sand bev!ns\n",
    "# to rise up and you find yourself in the middle of a sand mave\n",
    "# and you must find your way out enter the jungle to the west \n",
    "# on pagina four continue along the beach to the south by going \n",
    "# to pagina fourteen\n",
    "\n"
   ]
  },
  {
   "cell_type": "code",
   "execution_count": null,
   "metadata": {
    "collapsed": true
   },
   "outputs": [],
   "source": [
    "# Page 4\n",
    "# See above -  this is probably death"
   ]
  },
  {
   "cell_type": "code",
   "execution_count": 46,
   "metadata": {},
   "outputs": [
    {
     "name": "stdout",
     "output_type": "stream",
     "text": [
      "First Letters:\n",
      "DstaSueym!W1!rwba!as,ytaSNwettw!rofa\"yDnari3sHe!WabuIt!.\n",
      "\n",
      "Numbers:\n",
      "1626530994150902316330115150201626330648140\n",
      "\n",
      "Capital Letters:\n",
      "DECTTTSTSDNOTIWHWWEYOUTBMACIIWYSTDCYTTSTSTHISISNOTMULTILEVELMARKETINGWHWWTBMJIIWBIISBDDEINOTTSTSTWHWWEYOUYBMAGNIWWIMPLOREST\n",
      "\n"
     ]
    }
   ],
   "source": [
    "# Page 14\n",
    "# cipher: SpamMimic?????\n",
    "# cipher type: stegonagraphy\n",
    "# Inside the chest is a simple puzzle to solve...\n",
    "\n",
    "ciphertext = '''\n",
    "Dear E-Commerce professional ; This letter was specially\n",
    "selected to be sent to you . This is a one time mailing\n",
    "there is no need to request removal if you won't want\n",
    "any more ! This mail is being sent in compliance with\n",
    "Senate bill 1626 , Title 5 ; Section 309 . Do NOT confuse\n",
    "us with Internet scam artists ! Why work for somebody\n",
    "else when you can become rich inside 94 days . Have\n",
    "you ever noticed how long the line-ups are at bank\n",
    "machines and how many people you know are on the lnternet\n",
    "! Well, now is your chance to capitalize on this .\n",
    "WE will help YOU decrease perceived waiting time by\n",
    "150% and deliver goods right to the customer's doorstep\n",
    "! The best thing about our system is that it is absolutely\n",
    "risk free for you ! But don't believe us ! Ms Ames\n",
    "who resides in Connecticut tried us and says \"I've\n",
    "been poor and I've been rich - rich is better\" ! We\n",
    "assure you that we operate within all applicable laws\n",
    "! You have no reason not to act now ! Sign up a friend\n",
    "and you'll get a discount of 90% ! Thank-you for your\n",
    "serious consideration of our offer . Dear Cybercitizen\n",
    ", Your email address has been submitted to us indicating\n",
    "your interest in our letter . This is a one time mailing\n",
    "there is no need to request removal if you won't want\n",
    "any more . This mail is being sent in compliance with\n",
    "Senate bill 2316 , Title 3 , Section 301 ! THIS IS\n",
    "NOT MULTI-LEVEL MARKETING ! Why work for somebody else\n",
    "when you can become rich inside 15 weeks . Have you\n",
    "ever noticed people love convenience and more people\n",
    "than ever are surfing the web ! Well, now is your chance\n",
    "to capitalize on this . We will help you decrease perceived\n",
    "waiting time by 150% and use credit cards on your website\n",
    "! The best thing about our system is that it is absolutely\n",
    "risk free for you . But don't believe us . Mr Jones\n",
    "of Iowa tried us and says \"I was skeptical but it worked\n",
    "for me\" . We assure you that we operate within all\n",
    "applicable laws ! Because the Internet operates on\n",
    "\"Internet time\" you must hurry . Sign up a friend and\n",
    "you'll get a discount of 20% . Best regards ! Dear\n",
    "Decision maker , Especially for you - this cutting-edge\n",
    "news ! If you are not interested in our publications\n",
    "and wish to be removed from our lists, simply do NOT\n",
    "respond and ignore this mail ! This mail is being sent\n",
    "in compliance with Senate bill 1626 , Title 3 , Section\n",
    "306 . This is not a get rich scheme ! Why work for\n",
    "somebody else when you can become rich in 48 days !\n",
    "Have you ever noticed people love convenience and nearly\n",
    "every commercial on television has a .com on in it\n",
    "! Well, now is your chance to capitalize on this .\n",
    "WE will help YOU process your orders within seconds\n",
    "and decrease perceived waiting tine by 140% . You can\n",
    "begin at absolutely no cost to you ! But don't believe\n",
    "us . Ms Anderson of Georgia tried us and says \"Now\n",
    "I'm rich many more things are possible\" ! We are licensed\n",
    "to operate in all states ! We IMPLORE you - act now\n",
    "! Sign up a friend and your friend will be rich too\n",
    ". Thanks .\n",
    "'''\n",
    "\n",
    "# grab first letter of every line\n",
    "import io\n",
    "fl_ciphertext = []\n",
    "buf = io.StringIO(ciphertext)\n",
    "for line in buf.readlines():\n",
    "    #print(line[:1])\n",
    "    fl_ciphertext.append(line[:1])\n",
    "\n",
    "fc_ciphertext = ''.join(fl_ciphertext).strip()\n",
    "print('First Letters:\\n%s' % fc_ciphertext)\n",
    "print()\n",
    "\n",
    "# grab all numbers\n",
    "num_ciphertext = []\n",
    "for c in ciphertext:\n",
    "    if c.isdigit():\n",
    "        num_ciphertext.append(c)\n",
    "\n",
    "n_ciphertext = ''.join(num_ciphertext)\n",
    "print('Numbers:\\n%s' % n_ciphertext)\n",
    "print()\n",
    "        \n",
    "# grab all capitals\n",
    "cap_ciphertext = []\n",
    "for c in ciphertext:\n",
    "    if c.isupper():\n",
    "        cap_ciphertext.append(c)\n",
    "upper_ciphertext = ''.join(cap_ciphertext)\n",
    "print('Capital Letters:\\n%s' % upper_ciphertext)\n",
    "print()"
   ]
  },
  {
   "cell_type": "code",
   "execution_count": 47,
   "metadata": {},
   "outputs": [
    {
     "ename": "SyntaxError",
     "evalue": "invalid syntax (<ipython-input-47-faf46ab60a49>, line 2)",
     "output_type": "error",
     "traceback": [
      "\u001b[1;36m  File \u001b[1;32m\"<ipython-input-47-faf46ab60a49>\"\u001b[1;36m, line \u001b[1;32m2\u001b[0m\n\u001b[1;33m    Mv\u00131Jm9H\u0016q\u0001`a9\u001b[0m\n\u001b[1;37m      ^\u001b[0m\n\u001b[1;31mSyntaxError\u001b[0m\u001b[1;31m:\u001b[0m invalid syntax\n"
     ]
    }
   ],
   "source": [
    "(\u001c",
    "Mv\u00131Jm9H\u0016q\u0001`a9\u001c",
    "m\u0016s\u001c",
    "@i7\b\u000e\u0006\u000b",
    "Ife9\u000b",
    "L2\u00031Rn2H\u0006C!\\\u0014R2X,FK9N 3\u001c",
    "Mvi\u0001B 8\u001a.\u0006)l@m:\\nB\u0003\u0005Do9\u001d",
    "\u0001"
   ]
  },
  {
   "cell_type": "code",
   "execution_count": null,
   "metadata": {
    "collapsed": true
   },
   "outputs": [],
   "source": []
  }
 ],
 "metadata": {
  "kernelspec": {
   "display_name": "Python 3",
   "language": "python",
   "name": "python3"
  },
  "language_info": {
   "codemirror_mode": {
    "name": "ipython",
    "version": 3
   },
   "file_extension": ".py",
   "mimetype": "text/x-python",
   "name": "python",
   "nbconvert_exporter": "python",
   "pygments_lexer": "ipython3",
   "version": "3.6.0"
  }
 },
 "nbformat": 4,
 "nbformat_minor": 2
}
