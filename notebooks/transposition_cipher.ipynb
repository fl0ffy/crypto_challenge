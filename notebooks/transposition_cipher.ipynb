{
 "cells": [
  {
   "cell_type": "code",
   "execution_count": 1,
   "metadata": {
    "collapsed": true
   },
   "outputs": [],
   "source": [
    "# Columnar Transposition Cipher"
   ]
  },
  {
   "cell_type": "code",
   "execution_count": 18,
   "metadata": {},
   "outputs": [
    {
     "data": {
      "text/plain": [
       "'Cenoonommstmme oo snnio. s s c'"
      ]
     },
     "execution_count": 18,
     "metadata": {},
     "output_type": "execute_result"
    }
   ],
   "source": [
    "# Encryption Function\n",
    "# AHHHHHH Backwards\n",
    "\n",
    "def ctc_encrypt_v1(plaintext,key):\n",
    "    if len(plaintext) <= key:\n",
    "        print('Hey fuckhead, your key is longer than your plaintext')\n",
    "        return\n",
    "    big_list = []\n",
    "    for i in range(key):\n",
    "        cipher_list = []\n",
    "        for c in plaintext[i::key]:\n",
    "            cipher_list.append(c)\n",
    "        big_list.append(''.join(cipher_list))\n",
    "    #print(big_list)\n",
    "    return ''.join(big_list)\n",
    "        \n",
    "    \n",
    "ctc_encrypt_v1('Common sense is not so common.',8)"
   ]
  },
  {
   "cell_type": "code",
   "execution_count": 19,
   "metadata": {},
   "outputs": [
    {
     "data": {
      "text/plain": [
       "'Cenoonommstmme oo snnio. s s c'"
      ]
     },
     "execution_count": 19,
     "metadata": {},
     "output_type": "execute_result"
    }
   ],
   "source": [
    "def ctc_encrypt_v2(plaintext,key):\n",
    "    # Check that key is not longer than plaintext (should this be half plaintext??)\n",
    "    if int(len(plaintext)/2) <= key:\n",
    "        print('Invalid Key!')\n",
    "        return\n",
    "\n",
    "    # create list\n",
    "    ciphertext_list = []\n",
    "    \n",
    "    #for loop to iterate through each column (number of columns = key length) filling it in \n",
    "    for column in range(0,key):\n",
    "        current_index = column\n",
    "        # While loop to hop through the string index from starting by key until past the end of the plaintext\n",
    "        while current_index < len(plaintext):\n",
    "            # append to list\n",
    "            ciphertext_list.append(plaintext[current_index])\n",
    "            #increment current_index\n",
    "            current_index += key\n",
    "    \n",
    "    return ''.join(ciphertext_list)\n",
    "\n",
    "ctc_encrypt_v2('Common sense is not so common.',8)"
   ]
  },
  {
   "cell_type": "code",
   "execution_count": 20,
   "metadata": {},
   "outputs": [],
   "source": [
    "#v3 using 2d array"
   ]
  },
  {
   "cell_type": "code",
   "execution_count": 21,
   "metadata": {},
   "outputs": [
    {
     "name": "stdout",
     "output_type": "stream",
     "text": [
      "Invalid Key!\n"
     ]
    }
   ],
   "source": [
    "# Functional test with invalid inputs\n",
    "ctc_encrypt_v2('face',8)"
   ]
  },
  {
   "cell_type": "code",
   "execution_count": 22,
   "metadata": {},
   "outputs": [
    {
     "data": {
      "text/plain": [
       "'Common sense is not so common.'"
      ]
     },
     "execution_count": 22,
     "metadata": {},
     "output_type": "execute_result"
    }
   ],
   "source": [
    "import math\n",
    "\n",
    "def ctc_decrypt_v1(ciphertext,key):\n",
    "    # Calculate the number of columns and rows\n",
    "    num_rows = key\n",
    "    num_columns = math.ceil(len(ciphertext)/key)\n",
    "    \n",
    "    #calculate the number of padded cells in last column\n",
    "    num_pads = (num_columns * key) - len(ciphertext)\n",
    "    \n",
    "    # Create list\n",
    "    plaintext_list = [''] * num_columns\n",
    "    \n",
    "    column = 0\n",
    "    row = 0\n",
    "    \n",
    "    for char in ciphertext:\n",
    "        plaintext_list[column] += char\n",
    "        column += 1\n",
    "        \n",
    "        if (column >= num_columns) or (column >= num_columns -1 and row >= num_rows - num_pads):\n",
    "            column = 0\n",
    "            row += 1\n",
    "    \n",
    "    return ''.join(plaintext_list)\n",
    "    \n",
    "ctc_decrypt_v1('Cenoonommstmme oo snnio. s s c',8)"
   ]
  },
  {
   "cell_type": "code",
   "execution_count": 26,
   "metadata": {},
   "outputs": [
    {
     "name": "stdout",
     "output_type": "stream",
     "text": [
      "Youinaoonnntukn ys  yf !lf uh\n",
      "Youinaoonnntukn ys  yf !lf uh\n"
     ]
    }
   ],
   "source": [
    "# verify encryption functionality\n",
    "\n",
    "print(ctc_encrypt_v1('You look funny in funny hats!',5))\n",
    "print(ctc_encrypt_v2('You look funny in funny hats!',5))"
   ]
  },
  {
   "cell_type": "code",
   "execution_count": 27,
   "metadata": {},
   "outputs": [
    {
     "name": "stdout",
     "output_type": "stream",
     "text": [
      "You look funny in funny hats!\n"
     ]
    }
   ],
   "source": [
    "# verify decryption functionality\n",
    "\n",
    "print(ctc_decrypt_v1('Youinaoonnntukn ys  yf !lf uh',5))"
   ]
  },
  {
   "cell_type": "code",
   "execution_count": 37,
   "metadata": {},
   "outputs": [
    {
     "name": "stdout",
     "output_type": "stream",
     "text": [
      "-----Encryption-----\n",
      "4.526462699999996\n",
      "6.426930400000003\n",
      "-----Decryption-----\n",
      "6.525849199999982\n"
     ]
    }
   ],
   "source": [
    "import timeit\n",
    "\n",
    "print('-----Encryption-----')\n",
    "print(timeit.timeit(\"ctc_encrypt_v1('You look funny in funny hats!',5)\", setup=\"from __main__ import ctc_encrypt_v1\"))\n",
    "print(timeit.timeit(\"ctc_encrypt_v2('You look funny in funny hats!',5)\", setup=\"from __main__ import ctc_encrypt_v2\"))\n",
    "print('-----Decryption-----')\n",
    "print(timeit.timeit(\"ctc_decrypt_v1('You look funny in funny hats!',5)\", setup=\"from __main__ import ctc_decrypt_v1\"))"
   ]
  },
  {
   "cell_type": "code",
   "execution_count": null,
   "metadata": {},
   "outputs": [],
   "source": []
  }
 ],
 "metadata": {
  "kernelspec": {
   "display_name": "Python 3",
   "language": "python",
   "name": "python3"
  },
  "language_info": {
   "codemirror_mode": {
    "name": "ipython",
    "version": 3
   },
   "file_extension": ".py",
   "mimetype": "text/x-python",
   "name": "python",
   "nbconvert_exporter": "python",
   "pygments_lexer": "ipython3",
   "version": "3.6.5"
  }
 },
 "nbformat": 4,
 "nbformat_minor": 2
}
