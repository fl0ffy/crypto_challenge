{
 "cells": [
  {
   "cell_type": "code",
   "execution_count": 1,
   "metadata": {
    "collapsed": true
   },
   "outputs": [],
   "source": [
    "# Columnar Transposition Cipher"
   ]
  },
  {
   "cell_type": "code",
   "execution_count": 2,
   "metadata": {},
   "outputs": [
    {
     "data": {
      "text/plain": [
       "'fcae'"
      ]
     },
     "execution_count": 2,
     "metadata": {},
     "output_type": "execute_result"
    }
   ],
   "source": [
    "# Encryption Function\n",
    "# AHHHHHH Backwards\n",
    "\n",
    "def ctc_encrypt_v1(plaintext,key):\n",
    "    if len(plaintext) <= key:\n",
    "        print('Hey fuckhead, your key is longer than your plaintext')\n",
    "        return\n",
    "    big_list = []\n",
    "    for i in range(key):\n",
    "        cipher_list = []\n",
    "        for c in plaintext[i::key]:\n",
    "            cipher_list.append(c)\n",
    "        big_list.append(''.join(cipher_list))\n",
    "    #print(big_list)\n",
    "    return ''.join(big_list)\n",
    "        \n",
    "    \n",
    "ctc_v1('face',2)"
   ]
  },
  {
   "cell_type": "code",
   "execution_count": 3,
   "metadata": {},
   "outputs": [
    {
     "data": {
      "text/plain": [
       "'Cenoonommstmme oo snnio. s s c'"
      ]
     },
     "execution_count": 3,
     "metadata": {},
     "output_type": "execute_result"
    }
   ],
   "source": [
    "# Functional test with valid inputs\n",
    "ctc_encrypt_v1('Common sense is not so common.',8)"
   ]
  },
  {
   "cell_type": "code",
   "execution_count": 5,
   "metadata": {},
   "outputs": [
    {
     "name": "stdout",
     "output_type": "stream",
     "text": [
      "Hey fuckhead, your key is longer than your plaintext\n"
     ]
    }
   ],
   "source": [
    "# Functional test with invalid inputs\n",
    "ctc_encrypt_v1('face',8)"
   ]
  },
  {
   "cell_type": "code",
   "execution_count": null,
   "metadata": {
    "collapsed": true
   },
   "outputs": [],
   "source": []
  },
  {
   "cell_type": "code",
   "execution_count": null,
   "metadata": {
    "collapsed": true
   },
   "outputs": [],
   "source": []
  }
 ],
 "metadata": {
  "kernelspec": {
   "display_name": "Python 3",
   "language": "python",
   "name": "python3"
  },
  "language_info": {
   "codemirror_mode": {
    "name": "ipython",
    "version": 3
   },
   "file_extension": ".py",
   "mimetype": "text/x-python",
   "name": "python",
   "nbconvert_exporter": "python",
   "pygments_lexer": "ipython3",
   "version": "3.6.5"
  }
 },
 "nbformat": 4,
 "nbformat_minor": 2
}
