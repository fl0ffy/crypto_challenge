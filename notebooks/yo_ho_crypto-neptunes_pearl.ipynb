{
 "cells": [
  {
   "cell_type": "code",
   "execution_count": 1,
   "metadata": {
    "collapsed": true
   },
   "outputs": [],
   "source": [
    "# BSidesCharm 2018 Yo Ho Crypto\n",
    "# Choose your own crypto by Tess Schrodinger"
   ]
  },
  {
   "cell_type": "code",
   "execution_count": 2,
   "metadata": {
    "collapsed": true
   },
   "outputs": [],
   "source": [
    "# To join the crew of Neptune's Peal, turn to page 7"
   ]
  },
  {
   "cell_type": "code",
   "execution_count": 3,
   "metadata": {
    "collapsed": true
   },
   "outputs": [],
   "source": [
    "# Page 7\n",
    "\n",
    "# pick a path 12 or 25"
   ]
  },
  {
   "cell_type": "code",
   "execution_count": 8,
   "metadata": {},
   "outputs": [
    {
     "name": "stdout",
     "output_type": "stream",
     "text": [
      "The treasure lies to the south in the Caves of Maleficus\r\n",
      "\n",
      "19\n",
      "25\n"
     ]
    }
   ],
   "source": [
    "# Page 12\n",
    "\n",
    "octal_input = '''\n",
    "124 150 145 040 164 162 145 141 163 165 162 145 040 154 151 145 163 040\n",
    "164 157 040 164 150 145 040 163 157 165 164 150 040 151 156 040 164 150\n",
    "145 040 103 141 166 145 163 040 157 146 040 115 141 154 145 146 151 143\n",
    "165 163 015 012\n",
    "'''\n",
    "\n",
    "def octal_to_text_v1(input):\n",
    "    l = input.split()\n",
    "    tl = []\n",
    "    for i in l:\n",
    "        tl.append(chr(int(i, base=8)))\n",
    "    return ''.join(tl)\n",
    "\n",
    "print(octal_to_text_v1(octal_input))\n",
    "\n",
    "\n",
    "# page Illllllllllllllllll to continue south through the mountain pass.\n",
    "print(len('Illllllllllllllllll'))\n",
    "# page IIIIII||||||||||||||||||| to continue east through the mountain pass.\n",
    "print(len('IIIIII|||||||||||||||||||'))"
   ]
  },
  {
   "cell_type": "code",
   "execution_count": null,
   "metadata": {
    "collapsed": true
   },
   "outputs": [],
   "source": [
    "# Page 25"
   ]
  },
  {
   "cell_type": "code",
   "execution_count": null,
   "metadata": {
    "collapsed": true
   },
   "outputs": [],
   "source": [
    "# Page 21"
   ]
  },
  {
   "cell_type": "code",
   "execution_count": 57,
   "metadata": {},
   "outputs": [
    {
     "data": {
      "text/plain": [
       "'you continue and decide to take the mountain pass to the south after several hours you encounter a curious set of cliffs blocking your way after scaling the face of the cliff you encounter a large silver statue depicting an ancient god it is quite old and covered with dust but it appears to have rather large and priceless jewels for eyes this must be the treasure of the silver star you decide to use your knife to remove the jewels so you can return to the ship to show captain quicksand and gather some of the crew to return to help carry the statue as the silver is also valuable turn to page eighteen you notice an inscription running the length of the base of the statue it appears to be a prayer and you read the following words out loud god of the silver star shine your light upon my path astrum argentium turn to page nine'"
      ]
     },
     "execution_count": 57,
     "metadata": {},
     "output_type": "execute_result"
    }
   ],
   "source": [
    "# Page 19\n",
    "\n",
    "# need to account for \\n mid-word\n",
    "# OCR cleanup was weird characters for '-', non-space for ' ', and l for '1'\n",
    "\n",
    "number_string = '''\n",
    "25-15-21 3-15-14-20-9-14-21-5 1-14-4 4-5-3-9-4-5 20-15 20-1-11-5 20-8-5\n",
    "13-15-21-14-20-1-9-14 16-1-19-19 20-15 20-8-5 19-15-21-20-8 1-6-20-5-18\n",
    "19-5-22-5-18-1-12 8-15-21-18-19 25-15-21 5-14-3-15-21-14-20-5-18\n",
    "1 3-21-18-9-15-21-19 19-5-20 15-6 3-12-9-6-6-19 2-12-15-3-11-9-14-7\n",
    "25-15-21-18 23-1-25 1-6-20-5-18 19-3-1-12-9-14-7 20-8-5 6-1-3-5 15-6\n",
    "20-8-5 3-12-9-6-6 25-15-21 5-14-3-15-21-14-20-5-18 1 12-1-18-7-5 19-9-12-22-5-18\n",
    "19-20-1-20-21-5 4-5-16-9-3-20-9-14-7 1-14 1-14-3-9-5-14-20\n",
    "7-15-4 9-20 9-19 17-21-9-20-5 15-12-4 1-14-4 3-15-22-5-18-5-4 23-9-20-8\n",
    "4-21-19-20 2-21-20 9-20 1-16-16-5-1-18-19 20-15 8-1-22-5 18-1-20-8-5-18\n",
    "12-1-18-7-5 1-14-4 16-18-9-3-5-12-5-19-19 10-5-23-5-12-19 6-15-18\n",
    "5-25-5-19 20-8-9-19 13-21-19-20 2-5 20-8-5 20-18-5-1-19-21-18-5 15-6 20-8-5\n",
    "19-9-12-22-5-18 19-20-1-18\n",
    "\n",
    "25-15-21 4-5-3-9-4-5 20-15 21-19-5 25-15-21-18 11-14-9-6-5 20-15 18-5-13-15-22-5\n",
    "20-8-5 10-5-23-5-12-19 19-15 25-15-21 3-1-14 18-5-20-21-18-14\n",
    "20-15 20-8-5 19-8-9-16 20-15 19-8-15-23 3-1-16-20-1-9-14 17-21-9-3-11-19-1-14-4\n",
    "1-14-4 7-1-20-8-5-18 19-15-13-5 15-6 20-8-5 3-18-5-23\n",
    "20-15 18-5-20-21-18-14 20-15 8-5-12-16 3-1-18-18-25 20-8-5 19-20-1-20-21-5\n",
    "1-19 20-8-5 19-9-12-22-5-18 9-19 1-12-19-15 22-1-12-21-1-2-12-5\n",
    "20-21-18-14 20-15 16-1-7-5 5-9-7-8-20-5-5-14\n",
    "\n",
    "25-15-21 14-15-20-9-3-5 1-14 9-14-19-3-18-9-16-20-9-15-14 18-21-14-14-9-14-7\n",
    "20-8-5 12-5-14-7-20-8 15-6 20-8-5 2-1-19-5 15-6 20-8-5 19-20-1-20-21-5\n",
    "9-20 1-16-16-5-1-18-19 20-15 2-5 1 16-18-1-25-5-18 1-14-4\n",
    "25-15-21 18-5-1-4 20-8-5 6-15-12-12-15-23-9-14-7 23-15-18-4-19 15-21-20\n",
    "12-15-21-4 7-15-4 15-6 20-8-5 19-9-12-22-5-18 19-20-1-18 19-8-9-14-5\n",
    "25-15-21-18 12-9-7-8-20 21-16-15-14 13-25 16-1-20-8 1-19-20-18-21-13\n",
    "1-18-7-5-14-20-9-21-13 20-21-18-14 20-15 16-1-7-5 14-9-14-5\n",
    "'''\n",
    "\n",
    "mini_string = '25-15-21 3-15-14-20-9-14-21-5'\n",
    "\n",
    "import string\n",
    "\n",
    "# number to letter 1 to 1 \n",
    "def number_to_text_v1(input):\n",
    "    alpha_string = string.ascii_lowercase\n",
    "    l = input.split()\n",
    "    tl = []\n",
    "    for i in l:\n",
    "        itl = []\n",
    "        for c in i.split('-'):\n",
    "            itl.append(alpha_string[int(c)-1])\n",
    "        tl.append(''.join(itl))\n",
    "    return ' '.join(tl)\n",
    "\n",
    "number_to_text_v1(number_string)"
   ]
  },
  {
   "cell_type": "code",
   "execution_count": 55,
   "metadata": {
    "collapsed": true
   },
   "outputs": [],
   "source": [
    "# Page 18\n",
    "#Substitution cipher - used website\n",
    "\n",
    "# Solution\n",
    "# You use your knife t1 pop the first jewel from the statue and feel a\n",
    "# rumble beneath your feet. You pause for a moment t1 try and recall if\n",
    "# there is a volcano on the island. As you pop the second stone loose\n",
    "# and it falls into your hand, you feel another stronger rumble. You turn\n",
    "# around t1 make your way back t1 the ship but it is too late. The ground\n",
    "# opens beneath you and you fall onto the spikes at the bottom of A\n",
    "# deep pit.\n"
   ]
  },
  {
   "cell_type": "code",
   "execution_count": 72,
   "metadata": {},
   "outputs": [
    {
     "ename": "SyntaxError",
     "evalue": "invalid syntax (<ipython-input-72-ca0219691acf>, line 9)",
     "output_type": "error",
     "traceback": [
      "\u001b[1;36m  File \u001b[1;32m\"<ipython-input-72-ca0219691acf>\"\u001b[1;36m, line \u001b[1;32m9\u001b[0m\n\u001b[1;33m    [eX^XH[Y[H[%eYXK[HYHH[[Y\\[\\XHۈe[Y[HH[\\[ۈ[]\\Y[H]e[[eY\\[eXeXۜ[e[\\[e[]][eXZH[\\^H[H]H[[H[[[X[ۙYܘX\\H[\u001b[0m\n\u001b[1;37m               ^\u001b[0m\n\u001b[1;31mSyntaxError\u001b[0m\u001b[1;31m:\u001b[0m invalid syntax\n"
     ]
    }
   ],
   "source": [
    "# Page 9\n",
    "# base64 but its weird - used website\n",
    "\n",
    "ciphertext = '''\n",
    "\n",
    "'''\n",
    "\n",
    "# As youread theprayep]Y\u000b",
    "[eX^XH[Y[H[%eYXK[HYHH[[Y\\[\\XHۈe[Y[HH[\\[ۈ[]\\Y[H]e[[eY\\[eXeXۜ[e[\\[e[]][eXZH[\\^H[H]H[[H[[[X[ۙYܘX\\H[\u000b",
    "[e]\\eY%]%[YY%ܝ\\\\Y[K]\\[%[YX\\ۗ[epauseasthereisa chasm in thefloor.PIv\\\\XHYe[[H\\eۙY[[H[[\\Xܛ˔[HZHe]\\XX[`'V2V6ǙF9GR6IFV7&79GFR66GW&FvYC30F&VBfɽQѾQѡɽQɽ́ѡm,tern to page 29\n",
    "\n"
   ]
  },
  {
   "cell_type": "code",
   "execution_count": 58,
   "metadata": {
    "collapsed": true
   },
   "outputs": [],
   "source": [
    "# Page 29\n",
    "\n",
    "ciphertext = '''\n",
    "Bfu gfr dsoah gr kaqs n ulntwaj ausd nfioyg gkv cnofp suz rrfzdk hb sruys\n",
    "nqu cnspn wox o gurp. Ech iznj o uhwte fbfb atr grjs oh nfioyg gkv cnofp\n",
    "fnzc gkv cgjr icouf ohpotr. Vw catrf ded zvr Jcyvv bi Naxrvqx tnog krd\n",
    "hsrq znyqelsej ca wye lzbri tnseh vradgv nizv zdxiioy heexul le a 20-lcbw-\n",
    "iajwhv jpnseh tethruvd ub gkv grmck. Woxhhqrtkzl, bfu gfr irr kbbxxh\n",
    "hopn rnj oeh eoz osivczsq ep tns gurp. Tcj wyaz huh Xledu krs hsrq\n",
    "krouthiej, mbx rrk gniv tu dertekr nqu alhru r fkk zrie ivrfbs lce\n",
    "dudohvrear hedgs, ech wrkk o exenobt mlmv opufsy huh thggz ded roag\n",
    "jalsyb fn zvr rkhkf flue.\n",
    "\n",
    "Ech ffnzwaxv duka wye ziaqvl jsrsvr obgr khk qnyv atr prde zc n vdarz\n",
    "pdmexb pretgwaleg g gvqxlk quhjt ob gkv ckbghi. Tnwf plsz pr wye\n",
    "zfrdjuxs!\n",
    "\n",
    "Wye ivrvk hgg n szczieh ff g zbyvle tvhcd cwgk r srsrsznm redxot ca lk\n",
    "saferlnjsq ep a ncnuu ol ubou atr fnvlkhbqj. wxwgwvn ub gkv frcbu zn\n",
    "hzbru iy\n",
    "\n",
    "\"Rbq'k ovsa wyiy!\"\n",
    "\n",
    "Huh thkgg gfey bbw rpvsnu ko hs yrtkkr fr poa zvik tns ylu tu grh nhgh vv\n",
    "znywqh, kuxb gr gams gkzrzm bqv\n",
    "\n",
    "Yui xqver rbze atr rarmobr wye cfvwznm wa ecour nqu dkqvgv tu\n",
    "wayvszwtdke liewyex prifrk hebznm hb rget huh thkgg, wlrt. hb srgk\n",
    "huuve\n",
    "'''\n",
    "\n",
    "# from website ( https://www.guballa.de/vigenere-solver )\n",
    "# You are about to take a running jump across the chasm but decide to pause\n",
    "# and check for a trap. You find a hefty rock and toss it across the chasm\n",
    "# onto the cave floor beyond. It lands and the Glyph of Warding that had\n",
    "# been inscribed on the floor there erupts with magical energy in a 20-foot-\n",
    "# radius sphere centered on the glyph. Fortunately, you are far enough\n",
    "# back and are not affected by the trap. Now that the Glyph has been\n",
    "# triggered, you are safe to proceed and after a few more checks for\n",
    "# additional traps, you take a running jump across the chasm and land\n",
    "# safely on the other side.\n",
    "\n",
    "# You continue down the tunnel deeper into the cave and come to a small\n",
    "# cavern containing a single chest in the center. This must be the\n",
    "# treasure!\n",
    "\n",
    "# The chest has a picture of a lovely field with a sleeping dragon on it\n",
    "# surrounded by a hoard of gold and skeletons. written on the floor in\n",
    "# blood is\n",
    "\n",
    "# \"Don't open this!\"\n",
    "\n",
    "# The chest does not appear to be locked so you lift the lid to see what is\n",
    "# inside, turn to page thirty one\n",
    "\n",
    "# You kneel down and examine the writing in blood and decide to\n",
    "# investigate further before trying to open the chest, turn. to page\n",
    "# three\n"
   ]
  },
  {
   "cell_type": "code",
   "execution_count": 73,
   "metadata": {
    "collapsed": true
   },
   "outputs": [],
   "source": [
    "# Page 31 - sherlock (dancing men) cipher\n",
    "# PRIZE PAGE\n",
    "# translated using picture from internet - flags are capitals\n",
    "\n",
    "ciphertext = '''\n",
    "yju ksvl ojuir tkl\n",
    "tplsqupl jo tkl\n",
    "qafvlp qtsp! hpaic\n",
    "tkl ojfflwaic\n",
    "msqq mkpsql tjbliiy\n",
    "ojp s mpazl!\n",
    "\n",
    "pamlpasi litlptsaiglit\n",
    "'''\n",
    "\n",
    "# from website ( https://www.guballa.de/substitution-solver )\n",
    "#\n",
    "# you have found the\n",
    "# treasure of the\n",
    "# silver star! pring\n",
    "# the follewing\n",
    "# cass chrase tokenny\n",
    "# for a cribe!\n",
    "# ricerian entertainment"
   ]
  },
  {
   "cell_type": "code",
   "execution_count": null,
   "metadata": {
    "collapsed": true
   },
   "outputs": [],
   "source": []
  },
  {
   "cell_type": "code",
   "execution_count": 65,
   "metadata": {},
   "outputs": [
    {
     "data": {
      "text/plain": [
       "'you run your finger along the letters written in blood and then look around wondering where the blood came from as there are no skeletons or fresh bodies in the small cavern that you can see you stand and decide to walk around to the back of the chest to see if anything is written there on the baca a of the chest is what appears to be another prayer written in more blood you say the words out loud as you read them abandon all hope all ye who read thee as the words leave your lips the world goes dark'"
      ]
     },
     "execution_count": 65,
     "metadata": {},
     "output_type": "execute_result"
    }
   ],
   "source": [
    "# Page 3 - number_to_text\n",
    "\n",
    "ciphertext = '''\n",
    "25-15-21 18-21-14 25-15-21-18 6-9-14-7-5-18 1-12-15-14-7 20-8-5 12-5-20-20-5-18-19\n",
    "23-18-9-20-20-5-14 9-14 2-12-15-15-4 1-14-4 20-8-5-14 12-15-15-11 1-18-15-21-14-4\n",
    "23-15-14-4-5-18-9-14-7 23-8-5-18-5 20-8-5 2-12-15-15-4 3-1-13-5\n",
    "6-18-15-13 1-19 20-8-5-18-5 1-18-5 14-15 19-11-5-12-5-20-15-14-19 15-18 6-18-5-19-8\n",
    "2-15-4-9-5-19 9-14 20-8-5 19-13-1-12-12 3-1-22-5-18-14 20-8-1-20 25-15-21 3-1-14\n",
    "19-5-5 25-15-21 19-20-1-14-4 1-14-4 4-5-3-9-4-5 20-15 23-1-12-11\n",
    "1-18-15-21-14-4 20-15 20-8-5 2-1-3-11 15-6 20-8-5 3-8-5-19-20 20-15 19-5-5 9-6\n",
    "1-14-25-20-8-9-14-7 9-19 23-18-9-20-20-5-14 20-8-5-18-5 15-14 20-8-5 2-1-3-1 1\n",
    "15-6 20-8-5 3-8-5-19-20 9-19 23-8-1-20 1-16-16-5-1-18-19 20-15 2-5 1-14-15-20-8-5-18\n",
    "16-18-1-25-5-18 23-18-9-20-20-5-14 9-14 13-15-18-5 2-12-15-15-4\n",
    "25-15-21 19-1-25 20-8-5 23-15-18-4-19 15-21-20 12-15-21-4 1-19 25-15-21 18-5-1-4\n",
    "20-8-5-13\n",
    "\n",
    "1-2-1-14-4-15-14 1-12-12 8-15-16-5 1-12-12 25-5 23-8-15 18-5-1-4 20-8-5-5\n",
    "\n",
    "1-19 20-8-5 23-15-18-4-19 12-5-1-22-5 25-15-21-18 12-9-16-19 20-8-5 23-15-18-12-4\n",
    "7-15-5-19 4-1-18-11\n",
    "'''\n",
    "\n",
    "import string\n",
    "\n",
    "# number to letter 1 to 1 \n",
    "def number_to_text_v1(input):\n",
    "    alpha_string = string.ascii_lowercase\n",
    "    l = input.split()\n",
    "    tl = []\n",
    "    for i in l:\n",
    "        itl = []\n",
    "        for c in i.split('-'):\n",
    "            itl.append(alpha_string[int(c)-1])\n",
    "        tl.append(''.join(itl))\n",
    "    return ' '.join(tl)\n",
    "\n",
    "number_to_text_v1(ciphertext)"
   ]
  },
  {
   "cell_type": "code",
   "execution_count": null,
   "metadata": {
    "collapsed": true
   },
   "outputs": [],
   "source": []
  }
 ],
 "metadata": {
  "kernelspec": {
   "display_name": "Python 3",
   "language": "python",
   "name": "python3"
  },
  "language_info": {
   "codemirror_mode": {
    "name": "ipython",
    "version": 3
   },
   "file_extension": ".py",
   "mimetype": "text/x-python",
   "name": "python",
   "nbconvert_exporter": "python",
   "pygments_lexer": "ipython3",
   "version": "3.6.0"
  }
 },
 "nbformat": 4,
 "nbformat_minor": 2
}
