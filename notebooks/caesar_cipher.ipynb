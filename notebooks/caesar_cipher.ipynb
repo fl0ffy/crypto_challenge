{
 "cells": [
  {
   "cell_type": "code",
   "execution_count": 2,
   "metadata": {
    "collapsed": true
   },
   "outputs": [],
   "source": [
    "# Caesar Cipher"
   ]
  },
  {
   "cell_type": "code",
   "execution_count": 1,
   "metadata": {
    "collapsed": true
   },
   "outputs": [],
   "source": [
    "def caesar_cipher_v1 (input_string):\n",
    "    alphabet = \"abcdefghijklmnopqrstuvwxyz\"\n",
    "    compared = alphabet * 2\n",
    "    key = 13\n",
    "    plain_text = []\n",
    "    for letter in input_string:\n",
    "        new_letter = compared.index(letter) + 13\n",
    "        plain_text.append(compared[new_letter])\n",
    "    return ''.join(plain_text)"
   ]
  },
  {
   "cell_type": "code",
   "execution_count": 2,
   "metadata": {
    "collapsed": true
   },
   "outputs": [],
   "source": [
    "import codecs\n",
    "\n",
    "# https://stackoverflow.com/questions/3269686/short-rot13-function-python\n",
    "\n",
    "def caesar_cipher_v2(input):\n",
    "    return codecs.decode(input, 'rot_13')"
   ]
  },
  {
   "cell_type": "code",
   "execution_count": 2,
   "metadata": {},
   "outputs": [],
   "source": [
    "import string\n",
    "\n",
    "def caesar_cipher_v3(input,key):\n",
    "    SYMBOLS_UPPER = string.ascii_uppercase\n",
    "    SYMBOLS_LOWER = string.ascii_lowercase\n",
    "\n",
    "    plaintext = []\n",
    "\n",
    "    for c in input:\n",
    "        if c.isupper():\n",
    "            symbols = SYMBOLS_UPPER\n",
    "        elif c.islower():\n",
    "            symbols = SYMBOLS_LOWER\n",
    "        else:\n",
    "            plaintext.append(c)\n",
    "            continue\n",
    "\n",
    "        ciphertext_index = symbols.index(c)\n",
    "\n",
    "        # handle wrap around\n",
    "        plaintext_index = int(ciphertext_index) + int(key)\n",
    "\n",
    "        while plaintext_index >= len(symbols):\n",
    "            plaintext_index -= len(symbols)\n",
    "\n",
    "        plaintext.append(symbols[plaintext_index])\n",
    "\n",
    "    return ''.join(plaintext)"
   ]
  },
  {
   "cell_type": "code",
   "execution_count": 4,
   "metadata": {
    "collapsed": true
   },
   "outputs": [],
   "source": [
    "import string\n",
    "\n",
    "# https://stackoverflow.com/questions/3269686/short-rot13-function-python\n",
    "\n",
    "def caesar_cipher_v4(input):\n",
    "    rot13 = str.maketrans( \n",
    "        \"ABCDEFGHIJKLMabcdefghijklmNOPQRSTUVWXYZnopqrstuvwxyz\", \n",
    "        \"NOPQRSTUVWXYZnopqrstuvwxyzABCDEFGHIJKLMabcdefghijklm\")\n",
    "    return str.translate(input, rot13)"
   ]
  },
  {
   "cell_type": "code",
   "execution_count": 5,
   "metadata": {
    "collapsed": true
   },
   "outputs": [],
   "source": [
    "# use the odd/even approach with slicing\n",
    "\n",
    "def caesar_cipher_v5(input):\n",
    "    SYMBOLS = 'AaBbCcDdEeFfGgHhIiJjKkLlMmNnOoPpQqRrSsTtUuVvWwXxYyZz'\n",
    "    return"
   ]
  },
  {
   "cell_type": "code",
   "execution_count": 6,
   "metadata": {
    "collapsed": true
   },
   "outputs": [],
   "source": [
    "# create dictionary / lookup table"
   ]
  },
  {
   "cell_type": "code",
   "execution_count": 7,
   "metadata": {
    "collapsed": true
   },
   "outputs": [],
   "source": [
    "# use lambda function or list expression"
   ]
  },
  {
   "cell_type": "code",
   "execution_count": 8,
   "metadata": {},
   "outputs": [
    {
     "name": "stdout",
     "output_type": "stream",
     "text": [
      "gnpbf\n",
      "gnpbf\n",
      "gnpbf\n",
      "gnpbf\n"
     ]
    }
   ],
   "source": [
    "# verify encryption functionality\n",
    "\n",
    "print(caesar_cipher_v1('tacos'))\n",
    "print(caesar_cipher_v2('tacos'))\n",
    "print(caesar_cipher_v3('tacos',13))\n",
    "print(caesar_cipher_v4('tacos'))"
   ]
  },
  {
   "cell_type": "code",
   "execution_count": 9,
   "metadata": {},
   "outputs": [
    {
     "name": "stdout",
     "output_type": "stream",
     "text": [
      "tacos\n",
      "tacos\n",
      "tacos\n",
      "tacos\n"
     ]
    }
   ],
   "source": [
    "# verify decryption functionality\n",
    "\n",
    "print(caesar_cipher_v1('gnpbf'))\n",
    "print(caesar_cipher_v2('gnpbf'))\n",
    "print(caesar_cipher_v3('gnpbf',13))\n",
    "print(caesar_cipher_v4('gnpbf'))"
   ]
  },
  {
   "cell_type": "code",
   "execution_count": 12,
   "metadata": {},
   "outputs": [
    {
     "name": "stdout",
     "output_type": "stream",
     "text": [
      "7.170360938005615\n",
      "3.8260567050310783\n",
      "19.301114736997988\n",
      "11.599409141985234\n"
     ]
    }
   ],
   "source": [
    "# measure runtime\n",
    "\n",
    "import timeit\n",
    "\n",
    "print(timeit.timeit(\"caesar_cipher_v1('tacos')\", setup=\"from __main__ import caesar_cipher_v1\"))\n",
    "print(timeit.timeit(\"caesar_cipher_v2('tacos')\", setup=\"from __main__ import caesar_cipher_v2\"))\n",
    "print(timeit.timeit(\"caesar_cipher_v3('tacos',13)\", setup=\"from __main__ import caesar_cipher_v3\"))\n",
    "print(timeit.timeit(\"caesar_cipher_v4('tacos')\", setup=\"from __main__ import caesar_cipher_v4\"))"
   ]
  },
  {
   "cell_type": "code",
   "execution_count": null,
   "metadata": {
    "collapsed": true
   },
   "outputs": [],
   "source": [
    "# measure CPU usage"
   ]
  },
  {
   "cell_type": "code",
   "execution_count": null,
   "metadata": {
    "collapsed": true
   },
   "outputs": [],
   "source": [
    "# measure memory usage"
   ]
  },
  {
   "cell_type": "code",
   "execution_count": 11,
   "metadata": {},
   "outputs": [
    {
     "name": "stdout",
     "output_type": "stream",
     "text": [
      "\n",
      "zenameblackoutworriedthatourcipheristooweakonnextmessageswitchtovigenerecipherkeywordisthehiddensymbolofdeathinmyfavoriteholbeinend\n",
      "\n"
     ]
    }
   ],
   "source": [
    "ciphertext = '''\n",
    "gluhtlishjrvbadvyyplkaohavbyjpwolypzavvdlhrvuuleatlzzhnlzdpajoavcpnlulyljpwolyrlfdvykpzaolopkkluzftivsvmklhaoputfmhcvypalovsilpuluk\n",
    "'''\n",
    "\n",
    "print(caesar_cipher_v3(ciphertext,19))\n",
    "\n",
    "#for i in range(26):\n",
    "#    print(\"Key %s: %s\" % (i, caesar_cipher_v3(ciphertext,i)))"
   ]
  },
  {
   "cell_type": "code",
   "execution_count": 10,
   "metadata": {},
   "outputs": [
    {
     "name": "stdout",
     "output_type": "stream",
     "text": [
      "\n",
      "startigrabbedeverythingicouldfindpleasereturnanyblueprintsforvaultandalarmdesignbasedonwhichbankyoudecideoniamsettingupsafehouseco\n",
      "\n"
     ]
    }
   ],
   "source": [
    "ciphertext = '''\n",
    "vwduwljudeehghyhubwklqjlfrxogilqgsohdvhuhwxuqdqbeoxhsulqwviruydxowdqgdodupghvljqedvhgrqzklfkedqnbrxghflghrqldpvhwwlqjxsvdihkrxvhfr\n",
    "'''\n",
    "\n",
    "print(caesar_cipher_v3(ciphertext,23))\n",
    "#for i in range(26):\n",
    "#    print(\"Key %s: %s\" % (i, caesar_cipher_v3(ciphertext,i)))"
   ]
  },
  {
   "cell_type": "code",
   "execution_count": null,
   "metadata": {},
   "outputs": [],
   "source": [
    "Startwarningiheardreportofo\n",
    "urbreakinonthenewsstillwait\n",
    "ingonalarmtestschedulesiwil\n",
    "lreportbacktomorrowwithfina\n",
    "lplanforextrasecurityisugge\n",
    "stweburnourlettersafterread\n",
    "ingandswitchourletterstonum\n",
    "bersusingpolybiussquaredrop\n",
    "messageunderthebenchattrain\n",
    "stationend"
   ]
  },
  {
   "cell_type": "code",
   "execution_count": null,
   "metadata": {},
   "outputs": [],
   "source": [
    "44541134541123335344541242\n",
    "43424432514121231131135315\n",
    "54425442444243443251415343\n",
    "54324234411125513553341342\n",
    "43225343114454345343225134\n",
    "31421432513412533412155415\n",
    "34513351444411225144425442\n",
    "44441534512355154321345111\n",
    "13112123514254315333214243\n",
    "51445315341434512542531544\n",
    "335154325341443\n",
    "(cut off)\n",
    "43513544"
   ]
  },
  {
   "cell_type": "code",
   "execution_count": 12,
   "metadata": {},
   "outputs": [
    {
     "data": {
      "text/plain": [
       "26"
      ]
     },
     "execution_count": 12,
     "metadata": {},
     "output_type": "execute_result"
    }
   ],
   "source": [
    "len('44541134541123335344541242')"
   ]
  },
  {
   "cell_type": "code",
   "execution_count": null,
   "metadata": {},
   "outputs": [],
   "source": []
  }
 ],
 "metadata": {
  "kernelspec": {
   "display_name": "Python 3",
   "language": "python",
   "name": "python3"
  },
  "language_info": {
   "codemirror_mode": {
    "name": "ipython",
    "version": 3
   },
   "file_extension": ".py",
   "mimetype": "text/x-python",
   "name": "python",
   "nbconvert_exporter": "python",
   "pygments_lexer": "ipython3",
   "version": "3.6.5"
  }
 },
 "nbformat": 4,
 "nbformat_minor": 2
}
